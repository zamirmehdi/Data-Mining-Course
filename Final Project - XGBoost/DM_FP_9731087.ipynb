{
  "nbformat": 4,
  "nbformat_minor": 0,
  "metadata": {
    "colab": {
      "name": "DM_Finalproject.ipynb",
      "provenance": [],
      "collapsed_sections": []
    },
    "kernelspec": {
      "name": "python3",
      "display_name": "Python 3"
    },
    "language_info": {
      "name": "python"
    },
    "gpuClass": "standard",
    "accelerator": "GPU"
  },
  "cells": [
    {
      "cell_type": "markdown",
      "source": [
        "# Step0: Import"
      ],
      "metadata": {
        "id": "WnYXpxTFGJxw"
      }
    },
    {
      "cell_type": "code",
      "execution_count": 1,
      "metadata": {
        "id": "CRKXlB2AGBVh"
      },
      "outputs": [],
      "source": [
        "from google.colab import drive\n",
        "import pandas as pd\n",
        "import numpy as np\n",
        "from sklearn.preprocessing import MinMaxScaler\n",
        "from sklearn.model_selection import train_test_split\n",
        "from xgboost import XGBClassifier\n",
        "from sklearn.metrics import auc, precision_recall_curve, confusion_matrix, accuracy_score, roc_auc_score\n",
        "from sklearn.model_selection import GridSearchCV\n",
        "import matplotlib.pyplot as plt\n",
        "import pickle"
      ]
    },
    {
      "cell_type": "markdown",
      "source": [
        "# - Reading the dataset\n",
        "\n",
        "\n"
      ],
      "metadata": {
        "id": "zldYolWAHS4y"
      }
    },
    {
      "cell_type": "code",
      "source": [
        "# drive.mount('/content/gdrive')\n",
        "dataset = pd.read_csv('diabetes.csv')\n",
        "dataset"
      ],
      "metadata": {
        "colab": {
          "base_uri": "https://localhost:8080/",
          "height": 540
        },
        "id": "LDi9IDMSHZbP",
        "outputId": "eb502835-7d3e-4755-ada9-80d8a9130e02"
      },
      "execution_count": 21,
      "outputs": [
        {
          "output_type": "execute_result",
          "data": {
            "text/plain": [
              "       Unnamed: 0  Diabetes_binary  HighBP  High Cholesterol  \\\n",
              "0               0              0.0     1.0               0.0   \n",
              "1               1              0.0     1.0               1.0   \n",
              "2               2              0.0     0.0               0.0   \n",
              "3               3              0.0     1.0               1.0   \n",
              "4               4              0.0     0.0               0.0   \n",
              "...           ...              ...     ...               ...   \n",
              "70687       70687              1.0     0.0               1.0   \n",
              "70688       70688              1.0     0.0               1.0   \n",
              "70689       70689              1.0     1.0               1.0   \n",
              "70690       70690              1.0     1.0               1.0   \n",
              "70691       70691              1.0     1.0               1.0   \n",
              "\n",
              "       Cholesterol Check   BMI  Smoker  Stroke  HeartDiseaseorAttack  \\\n",
              "0                    1.0  26.0     0.0     0.0                   0.0   \n",
              "1                    1.0  26.0     1.0     1.0                   0.0   \n",
              "2                    1.0  26.0     0.0     0.0                   0.0   \n",
              "3                    1.0  28.0     1.0     0.0                   0.0   \n",
              "4                    1.0  29.0     1.0     0.0                   0.0   \n",
              "...                  ...   ...     ...     ...                   ...   \n",
              "70687                1.0  37.0     0.0     0.0                   0.0   \n",
              "70688                1.0  29.0     1.0     0.0                   1.0   \n",
              "70689                1.0  25.0     0.0     0.0                   1.0   \n",
              "70690                1.0  18.0     0.0     0.0                   0.0   \n",
              "70691                1.0  25.0     0.0     0.0                   1.0   \n",
              "\n",
              "       Physical Activity  ...  Any Health Care  No Doctor because of Cost  \\\n",
              "0                    1.0  ...              1.0                        0.0   \n",
              "1                    0.0  ...              1.0                        0.0   \n",
              "2                    1.0  ...              1.0                        0.0   \n",
              "3                    1.0  ...              1.0                        0.0   \n",
              "4                    1.0  ...              1.0                        0.0   \n",
              "...                  ...  ...              ...                        ...   \n",
              "70687                0.0  ...              1.0                        0.0   \n",
              "70688                0.0  ...              1.0                        0.0   \n",
              "70689                0.0  ...              1.0                        0.0   \n",
              "70690                0.0  ...              1.0                        0.0   \n",
              "70691                1.0  ...              1.0                        0.0   \n",
              "\n",
              "       General Health  Mental Health  Physical Health Difficulty Walking  \\\n",
              "0              Medium            5.0             30.0                0.0   \n",
              "1              Medium            0.0              0.0                0.0   \n",
              "2                High            0.0             10.0                0.0   \n",
              "3              Medium            0.0              3.0                0.0   \n",
              "4                Good            0.0              0.0                0.0   \n",
              "...               ...            ...              ...                ...   \n",
              "70687             Low            0.0              0.0                0.0   \n",
              "70688            Good            0.0              0.0                1.0   \n",
              "70689        Very Low           15.0              0.0                1.0   \n",
              "70690             Low            0.0              0.0                1.0   \n",
              "70691            Good            0.0              0.0                0.0   \n",
              "\n",
              "          Sex   Age  Education Income  \n",
              "0        male   4.0       Cat6   Cat8  \n",
              "1        male  12.0       Cat6   Cat8  \n",
              "2        male  13.0       Cat6   Cat8  \n",
              "3        male  11.0       Cat6   Cat8  \n",
              "4      female   8.0       Cat5   Cat8  \n",
              "...       ...   ...        ...    ...  \n",
              "70687  female   6.0       Cat4   Cat1  \n",
              "70688    male  10.0       Cat3   Cat6  \n",
              "70689  female  13.0       Cat6   Cat4  \n",
              "70690  female  11.0       Cat2   Cat4  \n",
              "70691  female   9.0       Cat6   Cat2  \n",
              "\n",
              "[70692 rows x 23 columns]"
            ],
            "text/html": [
              "\n",
              "  <div id=\"df-da5f7298-0a7f-40e3-a044-1a25f6649cc6\">\n",
              "    <div class=\"colab-df-container\">\n",
              "      <div>\n",
              "<style scoped>\n",
              "    .dataframe tbody tr th:only-of-type {\n",
              "        vertical-align: middle;\n",
              "    }\n",
              "\n",
              "    .dataframe tbody tr th {\n",
              "        vertical-align: top;\n",
              "    }\n",
              "\n",
              "    .dataframe thead th {\n",
              "        text-align: right;\n",
              "    }\n",
              "</style>\n",
              "<table border=\"1\" class=\"dataframe\">\n",
              "  <thead>\n",
              "    <tr style=\"text-align: right;\">\n",
              "      <th></th>\n",
              "      <th>Unnamed: 0</th>\n",
              "      <th>Diabetes_binary</th>\n",
              "      <th>HighBP</th>\n",
              "      <th>High Cholesterol</th>\n",
              "      <th>Cholesterol Check</th>\n",
              "      <th>BMI</th>\n",
              "      <th>Smoker</th>\n",
              "      <th>Stroke</th>\n",
              "      <th>HeartDiseaseorAttack</th>\n",
              "      <th>Physical Activity</th>\n",
              "      <th>...</th>\n",
              "      <th>Any Health Care</th>\n",
              "      <th>No Doctor because of Cost</th>\n",
              "      <th>General Health</th>\n",
              "      <th>Mental Health</th>\n",
              "      <th>Physical Health</th>\n",
              "      <th>Difficulty Walking</th>\n",
              "      <th>Sex</th>\n",
              "      <th>Age</th>\n",
              "      <th>Education</th>\n",
              "      <th>Income</th>\n",
              "    </tr>\n",
              "  </thead>\n",
              "  <tbody>\n",
              "    <tr>\n",
              "      <th>0</th>\n",
              "      <td>0</td>\n",
              "      <td>0.0</td>\n",
              "      <td>1.0</td>\n",
              "      <td>0.0</td>\n",
              "      <td>1.0</td>\n",
              "      <td>26.0</td>\n",
              "      <td>0.0</td>\n",
              "      <td>0.0</td>\n",
              "      <td>0.0</td>\n",
              "      <td>1.0</td>\n",
              "      <td>...</td>\n",
              "      <td>1.0</td>\n",
              "      <td>0.0</td>\n",
              "      <td>Medium</td>\n",
              "      <td>5.0</td>\n",
              "      <td>30.0</td>\n",
              "      <td>0.0</td>\n",
              "      <td>male</td>\n",
              "      <td>4.0</td>\n",
              "      <td>Cat6</td>\n",
              "      <td>Cat8</td>\n",
              "    </tr>\n",
              "    <tr>\n",
              "      <th>1</th>\n",
              "      <td>1</td>\n",
              "      <td>0.0</td>\n",
              "      <td>1.0</td>\n",
              "      <td>1.0</td>\n",
              "      <td>1.0</td>\n",
              "      <td>26.0</td>\n",
              "      <td>1.0</td>\n",
              "      <td>1.0</td>\n",
              "      <td>0.0</td>\n",
              "      <td>0.0</td>\n",
              "      <td>...</td>\n",
              "      <td>1.0</td>\n",
              "      <td>0.0</td>\n",
              "      <td>Medium</td>\n",
              "      <td>0.0</td>\n",
              "      <td>0.0</td>\n",
              "      <td>0.0</td>\n",
              "      <td>male</td>\n",
              "      <td>12.0</td>\n",
              "      <td>Cat6</td>\n",
              "      <td>Cat8</td>\n",
              "    </tr>\n",
              "    <tr>\n",
              "      <th>2</th>\n",
              "      <td>2</td>\n",
              "      <td>0.0</td>\n",
              "      <td>0.0</td>\n",
              "      <td>0.0</td>\n",
              "      <td>1.0</td>\n",
              "      <td>26.0</td>\n",
              "      <td>0.0</td>\n",
              "      <td>0.0</td>\n",
              "      <td>0.0</td>\n",
              "      <td>1.0</td>\n",
              "      <td>...</td>\n",
              "      <td>1.0</td>\n",
              "      <td>0.0</td>\n",
              "      <td>High</td>\n",
              "      <td>0.0</td>\n",
              "      <td>10.0</td>\n",
              "      <td>0.0</td>\n",
              "      <td>male</td>\n",
              "      <td>13.0</td>\n",
              "      <td>Cat6</td>\n",
              "      <td>Cat8</td>\n",
              "    </tr>\n",
              "    <tr>\n",
              "      <th>3</th>\n",
              "      <td>3</td>\n",
              "      <td>0.0</td>\n",
              "      <td>1.0</td>\n",
              "      <td>1.0</td>\n",
              "      <td>1.0</td>\n",
              "      <td>28.0</td>\n",
              "      <td>1.0</td>\n",
              "      <td>0.0</td>\n",
              "      <td>0.0</td>\n",
              "      <td>1.0</td>\n",
              "      <td>...</td>\n",
              "      <td>1.0</td>\n",
              "      <td>0.0</td>\n",
              "      <td>Medium</td>\n",
              "      <td>0.0</td>\n",
              "      <td>3.0</td>\n",
              "      <td>0.0</td>\n",
              "      <td>male</td>\n",
              "      <td>11.0</td>\n",
              "      <td>Cat6</td>\n",
              "      <td>Cat8</td>\n",
              "    </tr>\n",
              "    <tr>\n",
              "      <th>4</th>\n",
              "      <td>4</td>\n",
              "      <td>0.0</td>\n",
              "      <td>0.0</td>\n",
              "      <td>0.0</td>\n",
              "      <td>1.0</td>\n",
              "      <td>29.0</td>\n",
              "      <td>1.0</td>\n",
              "      <td>0.0</td>\n",
              "      <td>0.0</td>\n",
              "      <td>1.0</td>\n",
              "      <td>...</td>\n",
              "      <td>1.0</td>\n",
              "      <td>0.0</td>\n",
              "      <td>Good</td>\n",
              "      <td>0.0</td>\n",
              "      <td>0.0</td>\n",
              "      <td>0.0</td>\n",
              "      <td>female</td>\n",
              "      <td>8.0</td>\n",
              "      <td>Cat5</td>\n",
              "      <td>Cat8</td>\n",
              "    </tr>\n",
              "    <tr>\n",
              "      <th>...</th>\n",
              "      <td>...</td>\n",
              "      <td>...</td>\n",
              "      <td>...</td>\n",
              "      <td>...</td>\n",
              "      <td>...</td>\n",
              "      <td>...</td>\n",
              "      <td>...</td>\n",
              "      <td>...</td>\n",
              "      <td>...</td>\n",
              "      <td>...</td>\n",
              "      <td>...</td>\n",
              "      <td>...</td>\n",
              "      <td>...</td>\n",
              "      <td>...</td>\n",
              "      <td>...</td>\n",
              "      <td>...</td>\n",
              "      <td>...</td>\n",
              "      <td>...</td>\n",
              "      <td>...</td>\n",
              "      <td>...</td>\n",
              "      <td>...</td>\n",
              "    </tr>\n",
              "    <tr>\n",
              "      <th>70687</th>\n",
              "      <td>70687</td>\n",
              "      <td>1.0</td>\n",
              "      <td>0.0</td>\n",
              "      <td>1.0</td>\n",
              "      <td>1.0</td>\n",
              "      <td>37.0</td>\n",
              "      <td>0.0</td>\n",
              "      <td>0.0</td>\n",
              "      <td>0.0</td>\n",
              "      <td>0.0</td>\n",
              "      <td>...</td>\n",
              "      <td>1.0</td>\n",
              "      <td>0.0</td>\n",
              "      <td>Low</td>\n",
              "      <td>0.0</td>\n",
              "      <td>0.0</td>\n",
              "      <td>0.0</td>\n",
              "      <td>female</td>\n",
              "      <td>6.0</td>\n",
              "      <td>Cat4</td>\n",
              "      <td>Cat1</td>\n",
              "    </tr>\n",
              "    <tr>\n",
              "      <th>70688</th>\n",
              "      <td>70688</td>\n",
              "      <td>1.0</td>\n",
              "      <td>0.0</td>\n",
              "      <td>1.0</td>\n",
              "      <td>1.0</td>\n",
              "      <td>29.0</td>\n",
              "      <td>1.0</td>\n",
              "      <td>0.0</td>\n",
              "      <td>1.0</td>\n",
              "      <td>0.0</td>\n",
              "      <td>...</td>\n",
              "      <td>1.0</td>\n",
              "      <td>0.0</td>\n",
              "      <td>Good</td>\n",
              "      <td>0.0</td>\n",
              "      <td>0.0</td>\n",
              "      <td>1.0</td>\n",
              "      <td>male</td>\n",
              "      <td>10.0</td>\n",
              "      <td>Cat3</td>\n",
              "      <td>Cat6</td>\n",
              "    </tr>\n",
              "    <tr>\n",
              "      <th>70689</th>\n",
              "      <td>70689</td>\n",
              "      <td>1.0</td>\n",
              "      <td>1.0</td>\n",
              "      <td>1.0</td>\n",
              "      <td>1.0</td>\n",
              "      <td>25.0</td>\n",
              "      <td>0.0</td>\n",
              "      <td>0.0</td>\n",
              "      <td>1.0</td>\n",
              "      <td>0.0</td>\n",
              "      <td>...</td>\n",
              "      <td>1.0</td>\n",
              "      <td>0.0</td>\n",
              "      <td>Very Low</td>\n",
              "      <td>15.0</td>\n",
              "      <td>0.0</td>\n",
              "      <td>1.0</td>\n",
              "      <td>female</td>\n",
              "      <td>13.0</td>\n",
              "      <td>Cat6</td>\n",
              "      <td>Cat4</td>\n",
              "    </tr>\n",
              "    <tr>\n",
              "      <th>70690</th>\n",
              "      <td>70690</td>\n",
              "      <td>1.0</td>\n",
              "      <td>1.0</td>\n",
              "      <td>1.0</td>\n",
              "      <td>1.0</td>\n",
              "      <td>18.0</td>\n",
              "      <td>0.0</td>\n",
              "      <td>0.0</td>\n",
              "      <td>0.0</td>\n",
              "      <td>0.0</td>\n",
              "      <td>...</td>\n",
              "      <td>1.0</td>\n",
              "      <td>0.0</td>\n",
              "      <td>Low</td>\n",
              "      <td>0.0</td>\n",
              "      <td>0.0</td>\n",
              "      <td>1.0</td>\n",
              "      <td>female</td>\n",
              "      <td>11.0</td>\n",
              "      <td>Cat2</td>\n",
              "      <td>Cat4</td>\n",
              "    </tr>\n",
              "    <tr>\n",
              "      <th>70691</th>\n",
              "      <td>70691</td>\n",
              "      <td>1.0</td>\n",
              "      <td>1.0</td>\n",
              "      <td>1.0</td>\n",
              "      <td>1.0</td>\n",
              "      <td>25.0</td>\n",
              "      <td>0.0</td>\n",
              "      <td>0.0</td>\n",
              "      <td>1.0</td>\n",
              "      <td>1.0</td>\n",
              "      <td>...</td>\n",
              "      <td>1.0</td>\n",
              "      <td>0.0</td>\n",
              "      <td>Good</td>\n",
              "      <td>0.0</td>\n",
              "      <td>0.0</td>\n",
              "      <td>0.0</td>\n",
              "      <td>female</td>\n",
              "      <td>9.0</td>\n",
              "      <td>Cat6</td>\n",
              "      <td>Cat2</td>\n",
              "    </tr>\n",
              "  </tbody>\n",
              "</table>\n",
              "<p>70692 rows × 23 columns</p>\n",
              "</div>\n",
              "      <button class=\"colab-df-convert\" onclick=\"convertToInteractive('df-da5f7298-0a7f-40e3-a044-1a25f6649cc6')\"\n",
              "              title=\"Convert this dataframe to an interactive table.\"\n",
              "              style=\"display:none;\">\n",
              "        \n",
              "  <svg xmlns=\"http://www.w3.org/2000/svg\" height=\"24px\"viewBox=\"0 0 24 24\"\n",
              "       width=\"24px\">\n",
              "    <path d=\"M0 0h24v24H0V0z\" fill=\"none\"/>\n",
              "    <path d=\"M18.56 5.44l.94 2.06.94-2.06 2.06-.94-2.06-.94-.94-2.06-.94 2.06-2.06.94zm-11 1L8.5 8.5l.94-2.06 2.06-.94-2.06-.94L8.5 2.5l-.94 2.06-2.06.94zm10 10l.94 2.06.94-2.06 2.06-.94-2.06-.94-.94-2.06-.94 2.06-2.06.94z\"/><path d=\"M17.41 7.96l-1.37-1.37c-.4-.4-.92-.59-1.43-.59-.52 0-1.04.2-1.43.59L10.3 9.45l-7.72 7.72c-.78.78-.78 2.05 0 2.83L4 21.41c.39.39.9.59 1.41.59.51 0 1.02-.2 1.41-.59l7.78-7.78 2.81-2.81c.8-.78.8-2.07 0-2.86zM5.41 20L4 18.59l7.72-7.72 1.47 1.35L5.41 20z\"/>\n",
              "  </svg>\n",
              "      </button>\n",
              "      \n",
              "  <style>\n",
              "    .colab-df-container {\n",
              "      display:flex;\n",
              "      flex-wrap:wrap;\n",
              "      gap: 12px;\n",
              "    }\n",
              "\n",
              "    .colab-df-convert {\n",
              "      background-color: #E8F0FE;\n",
              "      border: none;\n",
              "      border-radius: 50%;\n",
              "      cursor: pointer;\n",
              "      display: none;\n",
              "      fill: #1967D2;\n",
              "      height: 32px;\n",
              "      padding: 0 0 0 0;\n",
              "      width: 32px;\n",
              "    }\n",
              "\n",
              "    .colab-df-convert:hover {\n",
              "      background-color: #E2EBFA;\n",
              "      box-shadow: 0px 1px 2px rgba(60, 64, 67, 0.3), 0px 1px 3px 1px rgba(60, 64, 67, 0.15);\n",
              "      fill: #174EA6;\n",
              "    }\n",
              "\n",
              "    [theme=dark] .colab-df-convert {\n",
              "      background-color: #3B4455;\n",
              "      fill: #D2E3FC;\n",
              "    }\n",
              "\n",
              "    [theme=dark] .colab-df-convert:hover {\n",
              "      background-color: #434B5C;\n",
              "      box-shadow: 0px 1px 3px 1px rgba(0, 0, 0, 0.15);\n",
              "      filter: drop-shadow(0px 1px 2px rgba(0, 0, 0, 0.3));\n",
              "      fill: #FFFFFF;\n",
              "    }\n",
              "  </style>\n",
              "\n",
              "      <script>\n",
              "        const buttonEl =\n",
              "          document.querySelector('#df-da5f7298-0a7f-40e3-a044-1a25f6649cc6 button.colab-df-convert');\n",
              "        buttonEl.style.display =\n",
              "          google.colab.kernel.accessAllowed ? 'block' : 'none';\n",
              "\n",
              "        async function convertToInteractive(key) {\n",
              "          const element = document.querySelector('#df-da5f7298-0a7f-40e3-a044-1a25f6649cc6');\n",
              "          const dataTable =\n",
              "            await google.colab.kernel.invokeFunction('convertToInteractive',\n",
              "                                                     [key], {});\n",
              "          if (!dataTable) return;\n",
              "\n",
              "          const docLinkHtml = 'Like what you see? Visit the ' +\n",
              "            '<a target=\"_blank\" href=https://colab.research.google.com/notebooks/data_table.ipynb>data table notebook</a>'\n",
              "            + ' to learn more about interactive tables.';\n",
              "          element.innerHTML = '';\n",
              "          dataTable['output_type'] = 'display_data';\n",
              "          await google.colab.output.renderOutput(dataTable, element);\n",
              "          const docLink = document.createElement('div');\n",
              "          docLink.innerHTML = docLinkHtml;\n",
              "          element.appendChild(docLink);\n",
              "        }\n",
              "      </script>\n",
              "    </div>\n",
              "  </div>\n",
              "  "
            ]
          },
          "metadata": {},
          "execution_count": 21
        }
      ]
    },
    {
      "cell_type": "markdown",
      "source": [
        "# > Preprocessing part"
      ],
      "metadata": {
        "id": "7lz9fVKPH2Dj"
      }
    },
    {
      "cell_type": "markdown",
      "source": [
        "## Remove void Data"
      ],
      "metadata": {
        "id": "LxyJ97qtT9Pz"
      }
    },
    {
      "cell_type": "markdown",
      "source": [
        "### Handle white spaces in dataset"
      ],
      "metadata": {
        "id": "hFNSSfekLXwd"
      }
    },
    {
      "cell_type": "markdown",
      "source": [
        "\n",
        "\n",
        "####  dataset Columns:"
      ],
      "metadata": {
        "id": "5GQLN6ybIKKz"
      }
    },
    {
      "cell_type": "code",
      "source": [
        "del dataset[\"Unnamed: 0\"]\n",
        "dataset.columns"
      ],
      "metadata": {
        "colab": {
          "base_uri": "https://localhost:8080/"
        },
        "id": "RMmovzuYIEis",
        "outputId": "f5adcc6d-b520-444b-ea10-605dfa781a99"
      },
      "execution_count": 24,
      "outputs": [
        {
          "output_type": "execute_result",
          "data": {
            "text/plain": [
              "Index(['Diabetes_binary', 'HighBP', 'High Cholesterol', 'Cholesterol Check',\n",
              "       'BMI', 'Smoker', 'Stroke', 'HeartDiseaseorAttack', 'Physical Activity',\n",
              "       'Fruits', 'Veggies', 'Heavy Alcohol Consumption', 'Any Health Care',\n",
              "       'No Doctor because of Cost', 'General Health', 'Mental Health',\n",
              "       'Physical Health', 'Difficulty Walking', 'Sex', 'Age', 'Education',\n",
              "       'Income'],\n",
              "      dtype='object')"
            ]
          },
          "metadata": {},
          "execution_count": 24
        }
      ]
    },
    {
      "cell_type": "code",
      "source": [
        "# del dataset[\"Unnamed:_0\"]"
      ],
      "metadata": {
        "id": "4mbnWone0frY"
      },
      "execution_count": 18,
      "outputs": []
    },
    {
      "cell_type": "markdown",
      "source": [
        "<div>\n",
        "  \n",
        "#### Replace white spaces in columns name with '_'\n",
        "  \n",
        "</div>"
      ],
      "metadata": {
        "id": "xViMDu30IzIA"
      }
    },
    {
      "cell_type": "code",
      "source": [
        "dataset.columns = dataset.columns.str.replace(' ', '_')\n",
        "dataset.columns"
      ],
      "metadata": {
        "colab": {
          "base_uri": "https://localhost:8080/"
        },
        "id": "qvS8knwNIjW8",
        "outputId": "c0989eae-b487-4953-d159-6771e922703c"
      },
      "execution_count": 25,
      "outputs": [
        {
          "output_type": "execute_result",
          "data": {
            "text/plain": [
              "Index(['Diabetes_binary', 'HighBP', 'High_Cholesterol', 'Cholesterol_Check',\n",
              "       'BMI', 'Smoker', 'Stroke', 'HeartDiseaseorAttack', 'Physical_Activity',\n",
              "       'Fruits', 'Veggies', 'Heavy_Alcohol_Consumption', 'Any_Health_Care',\n",
              "       'No_Doctor_because_of_Cost', 'General_Health', 'Mental_Health',\n",
              "       'Physical_Health', 'Difficulty_Walking', 'Sex', 'Age', 'Education',\n",
              "       'Income'],\n",
              "      dtype='object')"
            ]
          },
          "metadata": {},
          "execution_count": 25
        }
      ]
    },
    {
      "cell_type": "markdown",
      "source": [
        "<div>\n",
        "\n",
        "  #### Replace white spaces in data with '_'\n",
        "\n",
        "</div>"
      ],
      "metadata": {
        "id": "wRxAggdlJOzt"
      }
    },
    {
      "cell_type": "code",
      "source": [
        "for column_name in dataset.columns:\n",
        "  if type(dataset[column_name][0]) == str:\n",
        "    dataset[column_name] = dataset[column_name].str.replace(' ', '_')\n",
        "  \n",
        "dataset"
      ],
      "metadata": {
        "colab": {
          "base_uri": "https://localhost:8080/",
          "height": 488
        },
        "id": "gxGivaQSJi0L",
        "outputId": "f84d3b31-77d5-4a10-952e-65e00f702103"
      },
      "execution_count": 27,
      "outputs": [
        {
          "output_type": "execute_result",
          "data": {
            "text/plain": [
              "       Diabetes_binary  HighBP  High_Cholesterol  Cholesterol_Check   BMI  \\\n",
              "0                  0.0     1.0               0.0                1.0  26.0   \n",
              "1                  0.0     1.0               1.0                1.0  26.0   \n",
              "2                  0.0     0.0               0.0                1.0  26.0   \n",
              "3                  0.0     1.0               1.0                1.0  28.0   \n",
              "4                  0.0     0.0               0.0                1.0  29.0   \n",
              "...                ...     ...               ...                ...   ...   \n",
              "70687              1.0     0.0               1.0                1.0  37.0   \n",
              "70688              1.0     0.0               1.0                1.0  29.0   \n",
              "70689              1.0     1.0               1.0                1.0  25.0   \n",
              "70690              1.0     1.0               1.0                1.0  18.0   \n",
              "70691              1.0     1.0               1.0                1.0  25.0   \n",
              "\n",
              "       Smoker  Stroke  HeartDiseaseorAttack  Physical_Activity  Fruits  ...  \\\n",
              "0         0.0     0.0                   0.0                1.0     0.0  ...   \n",
              "1         1.0     1.0                   0.0                0.0     1.0  ...   \n",
              "2         0.0     0.0                   0.0                1.0     1.0  ...   \n",
              "3         1.0     0.0                   0.0                1.0     1.0  ...   \n",
              "4         1.0     0.0                   0.0                1.0     1.0  ...   \n",
              "...       ...     ...                   ...                ...     ...  ...   \n",
              "70687     0.0     0.0                   0.0                0.0     0.0  ...   \n",
              "70688     1.0     0.0                   1.0                0.0     1.0  ...   \n",
              "70689     0.0     0.0                   1.0                0.0     1.0  ...   \n",
              "70690     0.0     0.0                   0.0                0.0     0.0  ...   \n",
              "70691     0.0     0.0                   1.0                1.0     1.0  ...   \n",
              "\n",
              "       Any_Health_Care  No_Doctor_because_of_Cost  General_Health  \\\n",
              "0                  1.0                        0.0          Medium   \n",
              "1                  1.0                        0.0          Medium   \n",
              "2                  1.0                        0.0            High   \n",
              "3                  1.0                        0.0          Medium   \n",
              "4                  1.0                        0.0            Good   \n",
              "...                ...                        ...             ...   \n",
              "70687              1.0                        0.0             Low   \n",
              "70688              1.0                        0.0            Good   \n",
              "70689              1.0                        0.0        Very_Low   \n",
              "70690              1.0                        0.0             Low   \n",
              "70691              1.0                        0.0            Good   \n",
              "\n",
              "       Mental_Health Physical_Health  Difficulty_Walking     Sex   Age  \\\n",
              "0                5.0            30.0                 0.0    male   4.0   \n",
              "1                0.0             0.0                 0.0    male  12.0   \n",
              "2                0.0            10.0                 0.0    male  13.0   \n",
              "3                0.0             3.0                 0.0    male  11.0   \n",
              "4                0.0             0.0                 0.0  female   8.0   \n",
              "...              ...             ...                 ...     ...   ...   \n",
              "70687            0.0             0.0                 0.0  female   6.0   \n",
              "70688            0.0             0.0                 1.0    male  10.0   \n",
              "70689           15.0             0.0                 1.0  female  13.0   \n",
              "70690            0.0             0.0                 1.0  female  11.0   \n",
              "70691            0.0             0.0                 0.0  female   9.0   \n",
              "\n",
              "      Education  Income  \n",
              "0          Cat6    Cat8  \n",
              "1          Cat6    Cat8  \n",
              "2          Cat6    Cat8  \n",
              "3          Cat6    Cat8  \n",
              "4          Cat5    Cat8  \n",
              "...         ...     ...  \n",
              "70687      Cat4    Cat1  \n",
              "70688      Cat3    Cat6  \n",
              "70689      Cat6    Cat4  \n",
              "70690      Cat2    Cat4  \n",
              "70691      Cat6    Cat2  \n",
              "\n",
              "[70692 rows x 22 columns]"
            ],
            "text/html": [
              "\n",
              "  <div id=\"df-b4e77a18-d642-429f-9590-d9470679776b\">\n",
              "    <div class=\"colab-df-container\">\n",
              "      <div>\n",
              "<style scoped>\n",
              "    .dataframe tbody tr th:only-of-type {\n",
              "        vertical-align: middle;\n",
              "    }\n",
              "\n",
              "    .dataframe tbody tr th {\n",
              "        vertical-align: top;\n",
              "    }\n",
              "\n",
              "    .dataframe thead th {\n",
              "        text-align: right;\n",
              "    }\n",
              "</style>\n",
              "<table border=\"1\" class=\"dataframe\">\n",
              "  <thead>\n",
              "    <tr style=\"text-align: right;\">\n",
              "      <th></th>\n",
              "      <th>Diabetes_binary</th>\n",
              "      <th>HighBP</th>\n",
              "      <th>High_Cholesterol</th>\n",
              "      <th>Cholesterol_Check</th>\n",
              "      <th>BMI</th>\n",
              "      <th>Smoker</th>\n",
              "      <th>Stroke</th>\n",
              "      <th>HeartDiseaseorAttack</th>\n",
              "      <th>Physical_Activity</th>\n",
              "      <th>Fruits</th>\n",
              "      <th>...</th>\n",
              "      <th>Any_Health_Care</th>\n",
              "      <th>No_Doctor_because_of_Cost</th>\n",
              "      <th>General_Health</th>\n",
              "      <th>Mental_Health</th>\n",
              "      <th>Physical_Health</th>\n",
              "      <th>Difficulty_Walking</th>\n",
              "      <th>Sex</th>\n",
              "      <th>Age</th>\n",
              "      <th>Education</th>\n",
              "      <th>Income</th>\n",
              "    </tr>\n",
              "  </thead>\n",
              "  <tbody>\n",
              "    <tr>\n",
              "      <th>0</th>\n",
              "      <td>0.0</td>\n",
              "      <td>1.0</td>\n",
              "      <td>0.0</td>\n",
              "      <td>1.0</td>\n",
              "      <td>26.0</td>\n",
              "      <td>0.0</td>\n",
              "      <td>0.0</td>\n",
              "      <td>0.0</td>\n",
              "      <td>1.0</td>\n",
              "      <td>0.0</td>\n",
              "      <td>...</td>\n",
              "      <td>1.0</td>\n",
              "      <td>0.0</td>\n",
              "      <td>Medium</td>\n",
              "      <td>5.0</td>\n",
              "      <td>30.0</td>\n",
              "      <td>0.0</td>\n",
              "      <td>male</td>\n",
              "      <td>4.0</td>\n",
              "      <td>Cat6</td>\n",
              "      <td>Cat8</td>\n",
              "    </tr>\n",
              "    <tr>\n",
              "      <th>1</th>\n",
              "      <td>0.0</td>\n",
              "      <td>1.0</td>\n",
              "      <td>1.0</td>\n",
              "      <td>1.0</td>\n",
              "      <td>26.0</td>\n",
              "      <td>1.0</td>\n",
              "      <td>1.0</td>\n",
              "      <td>0.0</td>\n",
              "      <td>0.0</td>\n",
              "      <td>1.0</td>\n",
              "      <td>...</td>\n",
              "      <td>1.0</td>\n",
              "      <td>0.0</td>\n",
              "      <td>Medium</td>\n",
              "      <td>0.0</td>\n",
              "      <td>0.0</td>\n",
              "      <td>0.0</td>\n",
              "      <td>male</td>\n",
              "      <td>12.0</td>\n",
              "      <td>Cat6</td>\n",
              "      <td>Cat8</td>\n",
              "    </tr>\n",
              "    <tr>\n",
              "      <th>2</th>\n",
              "      <td>0.0</td>\n",
              "      <td>0.0</td>\n",
              "      <td>0.0</td>\n",
              "      <td>1.0</td>\n",
              "      <td>26.0</td>\n",
              "      <td>0.0</td>\n",
              "      <td>0.0</td>\n",
              "      <td>0.0</td>\n",
              "      <td>1.0</td>\n",
              "      <td>1.0</td>\n",
              "      <td>...</td>\n",
              "      <td>1.0</td>\n",
              "      <td>0.0</td>\n",
              "      <td>High</td>\n",
              "      <td>0.0</td>\n",
              "      <td>10.0</td>\n",
              "      <td>0.0</td>\n",
              "      <td>male</td>\n",
              "      <td>13.0</td>\n",
              "      <td>Cat6</td>\n",
              "      <td>Cat8</td>\n",
              "    </tr>\n",
              "    <tr>\n",
              "      <th>3</th>\n",
              "      <td>0.0</td>\n",
              "      <td>1.0</td>\n",
              "      <td>1.0</td>\n",
              "      <td>1.0</td>\n",
              "      <td>28.0</td>\n",
              "      <td>1.0</td>\n",
              "      <td>0.0</td>\n",
              "      <td>0.0</td>\n",
              "      <td>1.0</td>\n",
              "      <td>1.0</td>\n",
              "      <td>...</td>\n",
              "      <td>1.0</td>\n",
              "      <td>0.0</td>\n",
              "      <td>Medium</td>\n",
              "      <td>0.0</td>\n",
              "      <td>3.0</td>\n",
              "      <td>0.0</td>\n",
              "      <td>male</td>\n",
              "      <td>11.0</td>\n",
              "      <td>Cat6</td>\n",
              "      <td>Cat8</td>\n",
              "    </tr>\n",
              "    <tr>\n",
              "      <th>4</th>\n",
              "      <td>0.0</td>\n",
              "      <td>0.0</td>\n",
              "      <td>0.0</td>\n",
              "      <td>1.0</td>\n",
              "      <td>29.0</td>\n",
              "      <td>1.0</td>\n",
              "      <td>0.0</td>\n",
              "      <td>0.0</td>\n",
              "      <td>1.0</td>\n",
              "      <td>1.0</td>\n",
              "      <td>...</td>\n",
              "      <td>1.0</td>\n",
              "      <td>0.0</td>\n",
              "      <td>Good</td>\n",
              "      <td>0.0</td>\n",
              "      <td>0.0</td>\n",
              "      <td>0.0</td>\n",
              "      <td>female</td>\n",
              "      <td>8.0</td>\n",
              "      <td>Cat5</td>\n",
              "      <td>Cat8</td>\n",
              "    </tr>\n",
              "    <tr>\n",
              "      <th>...</th>\n",
              "      <td>...</td>\n",
              "      <td>...</td>\n",
              "      <td>...</td>\n",
              "      <td>...</td>\n",
              "      <td>...</td>\n",
              "      <td>...</td>\n",
              "      <td>...</td>\n",
              "      <td>...</td>\n",
              "      <td>...</td>\n",
              "      <td>...</td>\n",
              "      <td>...</td>\n",
              "      <td>...</td>\n",
              "      <td>...</td>\n",
              "      <td>...</td>\n",
              "      <td>...</td>\n",
              "      <td>...</td>\n",
              "      <td>...</td>\n",
              "      <td>...</td>\n",
              "      <td>...</td>\n",
              "      <td>...</td>\n",
              "      <td>...</td>\n",
              "    </tr>\n",
              "    <tr>\n",
              "      <th>70687</th>\n",
              "      <td>1.0</td>\n",
              "      <td>0.0</td>\n",
              "      <td>1.0</td>\n",
              "      <td>1.0</td>\n",
              "      <td>37.0</td>\n",
              "      <td>0.0</td>\n",
              "      <td>0.0</td>\n",
              "      <td>0.0</td>\n",
              "      <td>0.0</td>\n",
              "      <td>0.0</td>\n",
              "      <td>...</td>\n",
              "      <td>1.0</td>\n",
              "      <td>0.0</td>\n",
              "      <td>Low</td>\n",
              "      <td>0.0</td>\n",
              "      <td>0.0</td>\n",
              "      <td>0.0</td>\n",
              "      <td>female</td>\n",
              "      <td>6.0</td>\n",
              "      <td>Cat4</td>\n",
              "      <td>Cat1</td>\n",
              "    </tr>\n",
              "    <tr>\n",
              "      <th>70688</th>\n",
              "      <td>1.0</td>\n",
              "      <td>0.0</td>\n",
              "      <td>1.0</td>\n",
              "      <td>1.0</td>\n",
              "      <td>29.0</td>\n",
              "      <td>1.0</td>\n",
              "      <td>0.0</td>\n",
              "      <td>1.0</td>\n",
              "      <td>0.0</td>\n",
              "      <td>1.0</td>\n",
              "      <td>...</td>\n",
              "      <td>1.0</td>\n",
              "      <td>0.0</td>\n",
              "      <td>Good</td>\n",
              "      <td>0.0</td>\n",
              "      <td>0.0</td>\n",
              "      <td>1.0</td>\n",
              "      <td>male</td>\n",
              "      <td>10.0</td>\n",
              "      <td>Cat3</td>\n",
              "      <td>Cat6</td>\n",
              "    </tr>\n",
              "    <tr>\n",
              "      <th>70689</th>\n",
              "      <td>1.0</td>\n",
              "      <td>1.0</td>\n",
              "      <td>1.0</td>\n",
              "      <td>1.0</td>\n",
              "      <td>25.0</td>\n",
              "      <td>0.0</td>\n",
              "      <td>0.0</td>\n",
              "      <td>1.0</td>\n",
              "      <td>0.0</td>\n",
              "      <td>1.0</td>\n",
              "      <td>...</td>\n",
              "      <td>1.0</td>\n",
              "      <td>0.0</td>\n",
              "      <td>Very_Low</td>\n",
              "      <td>15.0</td>\n",
              "      <td>0.0</td>\n",
              "      <td>1.0</td>\n",
              "      <td>female</td>\n",
              "      <td>13.0</td>\n",
              "      <td>Cat6</td>\n",
              "      <td>Cat4</td>\n",
              "    </tr>\n",
              "    <tr>\n",
              "      <th>70690</th>\n",
              "      <td>1.0</td>\n",
              "      <td>1.0</td>\n",
              "      <td>1.0</td>\n",
              "      <td>1.0</td>\n",
              "      <td>18.0</td>\n",
              "      <td>0.0</td>\n",
              "      <td>0.0</td>\n",
              "      <td>0.0</td>\n",
              "      <td>0.0</td>\n",
              "      <td>0.0</td>\n",
              "      <td>...</td>\n",
              "      <td>1.0</td>\n",
              "      <td>0.0</td>\n",
              "      <td>Low</td>\n",
              "      <td>0.0</td>\n",
              "      <td>0.0</td>\n",
              "      <td>1.0</td>\n",
              "      <td>female</td>\n",
              "      <td>11.0</td>\n",
              "      <td>Cat2</td>\n",
              "      <td>Cat4</td>\n",
              "    </tr>\n",
              "    <tr>\n",
              "      <th>70691</th>\n",
              "      <td>1.0</td>\n",
              "      <td>1.0</td>\n",
              "      <td>1.0</td>\n",
              "      <td>1.0</td>\n",
              "      <td>25.0</td>\n",
              "      <td>0.0</td>\n",
              "      <td>0.0</td>\n",
              "      <td>1.0</td>\n",
              "      <td>1.0</td>\n",
              "      <td>1.0</td>\n",
              "      <td>...</td>\n",
              "      <td>1.0</td>\n",
              "      <td>0.0</td>\n",
              "      <td>Good</td>\n",
              "      <td>0.0</td>\n",
              "      <td>0.0</td>\n",
              "      <td>0.0</td>\n",
              "      <td>female</td>\n",
              "      <td>9.0</td>\n",
              "      <td>Cat6</td>\n",
              "      <td>Cat2</td>\n",
              "    </tr>\n",
              "  </tbody>\n",
              "</table>\n",
              "<p>70692 rows × 22 columns</p>\n",
              "</div>\n",
              "      <button class=\"colab-df-convert\" onclick=\"convertToInteractive('df-b4e77a18-d642-429f-9590-d9470679776b')\"\n",
              "              title=\"Convert this dataframe to an interactive table.\"\n",
              "              style=\"display:none;\">\n",
              "        \n",
              "  <svg xmlns=\"http://www.w3.org/2000/svg\" height=\"24px\"viewBox=\"0 0 24 24\"\n",
              "       width=\"24px\">\n",
              "    <path d=\"M0 0h24v24H0V0z\" fill=\"none\"/>\n",
              "    <path d=\"M18.56 5.44l.94 2.06.94-2.06 2.06-.94-2.06-.94-.94-2.06-.94 2.06-2.06.94zm-11 1L8.5 8.5l.94-2.06 2.06-.94-2.06-.94L8.5 2.5l-.94 2.06-2.06.94zm10 10l.94 2.06.94-2.06 2.06-.94-2.06-.94-.94-2.06-.94 2.06-2.06.94z\"/><path d=\"M17.41 7.96l-1.37-1.37c-.4-.4-.92-.59-1.43-.59-.52 0-1.04.2-1.43.59L10.3 9.45l-7.72 7.72c-.78.78-.78 2.05 0 2.83L4 21.41c.39.39.9.59 1.41.59.51 0 1.02-.2 1.41-.59l7.78-7.78 2.81-2.81c.8-.78.8-2.07 0-2.86zM5.41 20L4 18.59l7.72-7.72 1.47 1.35L5.41 20z\"/>\n",
              "  </svg>\n",
              "      </button>\n",
              "      \n",
              "  <style>\n",
              "    .colab-df-container {\n",
              "      display:flex;\n",
              "      flex-wrap:wrap;\n",
              "      gap: 12px;\n",
              "    }\n",
              "\n",
              "    .colab-df-convert {\n",
              "      background-color: #E8F0FE;\n",
              "      border: none;\n",
              "      border-radius: 50%;\n",
              "      cursor: pointer;\n",
              "      display: none;\n",
              "      fill: #1967D2;\n",
              "      height: 32px;\n",
              "      padding: 0 0 0 0;\n",
              "      width: 32px;\n",
              "    }\n",
              "\n",
              "    .colab-df-convert:hover {\n",
              "      background-color: #E2EBFA;\n",
              "      box-shadow: 0px 1px 2px rgba(60, 64, 67, 0.3), 0px 1px 3px 1px rgba(60, 64, 67, 0.15);\n",
              "      fill: #174EA6;\n",
              "    }\n",
              "\n",
              "    [theme=dark] .colab-df-convert {\n",
              "      background-color: #3B4455;\n",
              "      fill: #D2E3FC;\n",
              "    }\n",
              "\n",
              "    [theme=dark] .colab-df-convert:hover {\n",
              "      background-color: #434B5C;\n",
              "      box-shadow: 0px 1px 3px 1px rgba(0, 0, 0, 0.15);\n",
              "      filter: drop-shadow(0px 1px 2px rgba(0, 0, 0, 0.3));\n",
              "      fill: #FFFFFF;\n",
              "    }\n",
              "  </style>\n",
              "\n",
              "      <script>\n",
              "        const buttonEl =\n",
              "          document.querySelector('#df-b4e77a18-d642-429f-9590-d9470679776b button.colab-df-convert');\n",
              "        buttonEl.style.display =\n",
              "          google.colab.kernel.accessAllowed ? 'block' : 'none';\n",
              "\n",
              "        async function convertToInteractive(key) {\n",
              "          const element = document.querySelector('#df-b4e77a18-d642-429f-9590-d9470679776b');\n",
              "          const dataTable =\n",
              "            await google.colab.kernel.invokeFunction('convertToInteractive',\n",
              "                                                     [key], {});\n",
              "          if (!dataTable) return;\n",
              "\n",
              "          const docLinkHtml = 'Like what you see? Visit the ' +\n",
              "            '<a target=\"_blank\" href=https://colab.research.google.com/notebooks/data_table.ipynb>data table notebook</a>'\n",
              "            + ' to learn more about interactive tables.';\n",
              "          element.innerHTML = '';\n",
              "          dataTable['output_type'] = 'display_data';\n",
              "          await google.colab.output.renderOutput(dataTable, element);\n",
              "          const docLink = document.createElement('div');\n",
              "          docLink.innerHTML = docLinkHtml;\n",
              "          element.appendChild(docLink);\n",
              "        }\n",
              "      </script>\n",
              "    </div>\n",
              "  </div>\n",
              "  "
            ]
          },
          "metadata": {},
          "execution_count": 27
        }
      ]
    },
    {
      "cell_type": "markdown",
      "source": [
        "### Handle missing data"
      ],
      "metadata": {
        "id": "hiYkSvYnLrdf"
      }
    },
    {
      "cell_type": "code",
      "source": [
        "dataset.isna().sum()"
      ],
      "metadata": {
        "colab": {
          "base_uri": "https://localhost:8080/"
        },
        "id": "MHETF6ZAW5Fg",
        "outputId": "a8ae3784-332e-4fa7-97c4-06be599256e7"
      },
      "execution_count": 28,
      "outputs": [
        {
          "output_type": "execute_result",
          "data": {
            "text/plain": [
              "Diabetes_binary              0\n",
              "HighBP                       0\n",
              "High_Cholesterol             0\n",
              "Cholesterol_Check            0\n",
              "BMI                          1\n",
              "Smoker                       0\n",
              "Stroke                       0\n",
              "HeartDiseaseorAttack         1\n",
              "Physical_Activity            1\n",
              "Fruits                       2\n",
              "Veggies                      1\n",
              "Heavy_Alcohol_Consumption    1\n",
              "Any_Health_Care              2\n",
              "No_Doctor_because_of_Cost    2\n",
              "General_Health               1\n",
              "Mental_Health                1\n",
              "Physical_Health              1\n",
              "Difficulty_Walking           2\n",
              "Sex                          1\n",
              "Age                          1\n",
              "Education                    1\n",
              "Income                       1\n",
              "dtype: int64"
            ]
          },
          "metadata": {},
          "execution_count": 28
        }
      ]
    },
    {
      "cell_type": "markdown",
      "source": [
        "<div>\n",
        "\n",
        "   #### Delete record with too many missing data\n",
        "\n",
        "</div>"
      ],
      "metadata": {
        "id": "725ldgSjN44C"
      }
    },
    {
      "cell_type": "code",
      "source": [
        "dataset[\"HeartDiseaseorAttack\"].describe()"
      ],
      "metadata": {
        "colab": {
          "base_uri": "https://localhost:8080/"
        },
        "id": "M56M9SRiNywt",
        "outputId": "096911e1-1d0c-4bd4-bef7-aa8978d5da68"
      },
      "execution_count": null,
      "outputs": [
        {
          "output_type": "execute_result",
          "data": {
            "text/plain": [
              "count    70691.000000\n",
              "mean         0.147812\n",
              "std          0.354916\n",
              "min          0.000000\n",
              "25%          0.000000\n",
              "50%          0.000000\n",
              "75%          0.000000\n",
              "max          1.000000\n",
              "Name: HeartDiseaseorAttack, dtype: float64"
            ]
          },
          "metadata": {},
          "execution_count": 160
        }
      ]
    },
    {
      "cell_type": "code",
      "source": [
        "dataset.loc[dataset['HeartDiseaseorAttack'].isna()]"
      ],
      "metadata": {
        "colab": {
          "base_uri": "https://localhost:8080/",
          "height": 174
        },
        "id": "bth53SnpOO3L",
        "outputId": "c0fd2673-6ca7-4b38-a28f-2aac9fc9d8de"
      },
      "execution_count": 29,
      "outputs": [
        {
          "output_type": "execute_result",
          "data": {
            "text/plain": [
              "       Diabetes_binary  HighBP  High_Cholesterol  Cholesterol_Check   BMI  \\\n",
              "11691              0.0     0.0               0.0                1.0  27.0   \n",
              "\n",
              "       Smoker  Stroke  HeartDiseaseorAttack  Physical_Activity  Fruits  ...  \\\n",
              "11691     0.0     0.0                   NaN                NaN     NaN  ...   \n",
              "\n",
              "       Any_Health_Care  No_Doctor_because_of_Cost  General_Health  \\\n",
              "11691              NaN                        NaN             NaN   \n",
              "\n",
              "       Mental_Health Physical_Health  Difficulty_Walking  Sex  Age Education  \\\n",
              "11691            NaN             NaN                 NaN  NaN  NaN       NaN   \n",
              "\n",
              "       Income  \n",
              "11691     NaN  \n",
              "\n",
              "[1 rows x 22 columns]"
            ],
            "text/html": [
              "\n",
              "  <div id=\"df-0b87f440-8abc-4a3a-b1dd-8413f02dd472\">\n",
              "    <div class=\"colab-df-container\">\n",
              "      <div>\n",
              "<style scoped>\n",
              "    .dataframe tbody tr th:only-of-type {\n",
              "        vertical-align: middle;\n",
              "    }\n",
              "\n",
              "    .dataframe tbody tr th {\n",
              "        vertical-align: top;\n",
              "    }\n",
              "\n",
              "    .dataframe thead th {\n",
              "        text-align: right;\n",
              "    }\n",
              "</style>\n",
              "<table border=\"1\" class=\"dataframe\">\n",
              "  <thead>\n",
              "    <tr style=\"text-align: right;\">\n",
              "      <th></th>\n",
              "      <th>Diabetes_binary</th>\n",
              "      <th>HighBP</th>\n",
              "      <th>High_Cholesterol</th>\n",
              "      <th>Cholesterol_Check</th>\n",
              "      <th>BMI</th>\n",
              "      <th>Smoker</th>\n",
              "      <th>Stroke</th>\n",
              "      <th>HeartDiseaseorAttack</th>\n",
              "      <th>Physical_Activity</th>\n",
              "      <th>Fruits</th>\n",
              "      <th>...</th>\n",
              "      <th>Any_Health_Care</th>\n",
              "      <th>No_Doctor_because_of_Cost</th>\n",
              "      <th>General_Health</th>\n",
              "      <th>Mental_Health</th>\n",
              "      <th>Physical_Health</th>\n",
              "      <th>Difficulty_Walking</th>\n",
              "      <th>Sex</th>\n",
              "      <th>Age</th>\n",
              "      <th>Education</th>\n",
              "      <th>Income</th>\n",
              "    </tr>\n",
              "  </thead>\n",
              "  <tbody>\n",
              "    <tr>\n",
              "      <th>11691</th>\n",
              "      <td>0.0</td>\n",
              "      <td>0.0</td>\n",
              "      <td>0.0</td>\n",
              "      <td>1.0</td>\n",
              "      <td>27.0</td>\n",
              "      <td>0.0</td>\n",
              "      <td>0.0</td>\n",
              "      <td>NaN</td>\n",
              "      <td>NaN</td>\n",
              "      <td>NaN</td>\n",
              "      <td>...</td>\n",
              "      <td>NaN</td>\n",
              "      <td>NaN</td>\n",
              "      <td>NaN</td>\n",
              "      <td>NaN</td>\n",
              "      <td>NaN</td>\n",
              "      <td>NaN</td>\n",
              "      <td>NaN</td>\n",
              "      <td>NaN</td>\n",
              "      <td>NaN</td>\n",
              "      <td>NaN</td>\n",
              "    </tr>\n",
              "  </tbody>\n",
              "</table>\n",
              "<p>1 rows × 22 columns</p>\n",
              "</div>\n",
              "      <button class=\"colab-df-convert\" onclick=\"convertToInteractive('df-0b87f440-8abc-4a3a-b1dd-8413f02dd472')\"\n",
              "              title=\"Convert this dataframe to an interactive table.\"\n",
              "              style=\"display:none;\">\n",
              "        \n",
              "  <svg xmlns=\"http://www.w3.org/2000/svg\" height=\"24px\"viewBox=\"0 0 24 24\"\n",
              "       width=\"24px\">\n",
              "    <path d=\"M0 0h24v24H0V0z\" fill=\"none\"/>\n",
              "    <path d=\"M18.56 5.44l.94 2.06.94-2.06 2.06-.94-2.06-.94-.94-2.06-.94 2.06-2.06.94zm-11 1L8.5 8.5l.94-2.06 2.06-.94-2.06-.94L8.5 2.5l-.94 2.06-2.06.94zm10 10l.94 2.06.94-2.06 2.06-.94-2.06-.94-.94-2.06-.94 2.06-2.06.94z\"/><path d=\"M17.41 7.96l-1.37-1.37c-.4-.4-.92-.59-1.43-.59-.52 0-1.04.2-1.43.59L10.3 9.45l-7.72 7.72c-.78.78-.78 2.05 0 2.83L4 21.41c.39.39.9.59 1.41.59.51 0 1.02-.2 1.41-.59l7.78-7.78 2.81-2.81c.8-.78.8-2.07 0-2.86zM5.41 20L4 18.59l7.72-7.72 1.47 1.35L5.41 20z\"/>\n",
              "  </svg>\n",
              "      </button>\n",
              "      \n",
              "  <style>\n",
              "    .colab-df-container {\n",
              "      display:flex;\n",
              "      flex-wrap:wrap;\n",
              "      gap: 12px;\n",
              "    }\n",
              "\n",
              "    .colab-df-convert {\n",
              "      background-color: #E8F0FE;\n",
              "      border: none;\n",
              "      border-radius: 50%;\n",
              "      cursor: pointer;\n",
              "      display: none;\n",
              "      fill: #1967D2;\n",
              "      height: 32px;\n",
              "      padding: 0 0 0 0;\n",
              "      width: 32px;\n",
              "    }\n",
              "\n",
              "    .colab-df-convert:hover {\n",
              "      background-color: #E2EBFA;\n",
              "      box-shadow: 0px 1px 2px rgba(60, 64, 67, 0.3), 0px 1px 3px 1px rgba(60, 64, 67, 0.15);\n",
              "      fill: #174EA6;\n",
              "    }\n",
              "\n",
              "    [theme=dark] .colab-df-convert {\n",
              "      background-color: #3B4455;\n",
              "      fill: #D2E3FC;\n",
              "    }\n",
              "\n",
              "    [theme=dark] .colab-df-convert:hover {\n",
              "      background-color: #434B5C;\n",
              "      box-shadow: 0px 1px 3px 1px rgba(0, 0, 0, 0.15);\n",
              "      filter: drop-shadow(0px 1px 2px rgba(0, 0, 0, 0.3));\n",
              "      fill: #FFFFFF;\n",
              "    }\n",
              "  </style>\n",
              "\n",
              "      <script>\n",
              "        const buttonEl =\n",
              "          document.querySelector('#df-0b87f440-8abc-4a3a-b1dd-8413f02dd472 button.colab-df-convert');\n",
              "        buttonEl.style.display =\n",
              "          google.colab.kernel.accessAllowed ? 'block' : 'none';\n",
              "\n",
              "        async function convertToInteractive(key) {\n",
              "          const element = document.querySelector('#df-0b87f440-8abc-4a3a-b1dd-8413f02dd472');\n",
              "          const dataTable =\n",
              "            await google.colab.kernel.invokeFunction('convertToInteractive',\n",
              "                                                     [key], {});\n",
              "          if (!dataTable) return;\n",
              "\n",
              "          const docLinkHtml = 'Like what you see? Visit the ' +\n",
              "            '<a target=\"_blank\" href=https://colab.research.google.com/notebooks/data_table.ipynb>data table notebook</a>'\n",
              "            + ' to learn more about interactive tables.';\n",
              "          element.innerHTML = '';\n",
              "          dataTable['output_type'] = 'display_data';\n",
              "          await google.colab.output.renderOutput(dataTable, element);\n",
              "          const docLink = document.createElement('div');\n",
              "          docLink.innerHTML = docLinkHtml;\n",
              "          element.appendChild(docLink);\n",
              "        }\n",
              "      </script>\n",
              "    </div>\n",
              "  </div>\n",
              "  "
            ]
          },
          "metadata": {},
          "execution_count": 29
        }
      ]
    },
    {
      "cell_type": "code",
      "source": [
        "dataset.iloc[11691]"
      ],
      "metadata": {
        "colab": {
          "base_uri": "https://localhost:8080/"
        },
        "id": "OR40CMidWbd7",
        "outputId": "b4b347d0-51d0-4403-c787-7b069b9c8479"
      },
      "execution_count": 30,
      "outputs": [
        {
          "output_type": "execute_result",
          "data": {
            "text/plain": [
              "Diabetes_binary               0.0\n",
              "HighBP                        0.0\n",
              "High_Cholesterol              0.0\n",
              "Cholesterol_Check             1.0\n",
              "BMI                          27.0\n",
              "Smoker                        0.0\n",
              "Stroke                        0.0\n",
              "HeartDiseaseorAttack          NaN\n",
              "Physical_Activity             NaN\n",
              "Fruits                        NaN\n",
              "Veggies                       NaN\n",
              "Heavy_Alcohol_Consumption     NaN\n",
              "Any_Health_Care               NaN\n",
              "No_Doctor_because_of_Cost     NaN\n",
              "General_Health                NaN\n",
              "Mental_Health                 NaN\n",
              "Physical_Health               NaN\n",
              "Difficulty_Walking            NaN\n",
              "Sex                           NaN\n",
              "Age                           NaN\n",
              "Education                     NaN\n",
              "Income                        NaN\n",
              "Name: 11691, dtype: object"
            ]
          },
          "metadata": {},
          "execution_count": 30
        }
      ]
    },
    {
      "cell_type": "code",
      "source": [
        "dataset = dataset.drop(11691)"
      ],
      "metadata": {
        "id": "fQguZX29Wepd"
      },
      "execution_count": 31,
      "outputs": []
    },
    {
      "cell_type": "markdown",
      "source": [
        "<div>\n",
        "\n",
        "  Find columns that have a null value\n",
        "\n",
        "</div>"
      ],
      "metadata": {
        "id": "cMgDTTZzM6Q-"
      }
    },
    {
      "cell_type": "code",
      "source": [
        "columns = dataset.isna().sum()\n",
        "columns = dict(columns)\n",
        "columns_have_null_value = []\n",
        "for column_name, num_null_value in columns.items():\n",
        "  if num_null_value > 0:\n",
        "    columns_have_null_value.append(column_name)\n",
        "\n",
        "print(f\"columns containing null value over total number of columns: {len(columns_have_null_value)} / {len(columns)}\")"
      ],
      "metadata": {
        "colab": {
          "base_uri": "https://localhost:8080/"
        },
        "id": "sePAQTHDL3KK",
        "outputId": "b3861750-24ad-412f-f34e-520bcee4c1a9"
      },
      "execution_count": 33,
      "outputs": [
        {
          "output_type": "stream",
          "name": "stdout",
          "text": [
            "columns containing null value over total number of columns: 5 / 22\n"
          ]
        }
      ]
    },
    {
      "cell_type": "markdown",
      "source": [
        "<div>\n",
        "\n",
        "  #### Replace \"Unknown\" with column mode \n",
        "  <!-- (in Income column) -->\n",
        "\n",
        "</div>"
      ],
      "metadata": {
        "id": "7EHwQknW2SfA"
      }
    },
    {
      "cell_type": "code",
      "source": [
        "dataset[\"Income\"].replace('Unknown', dataset[\"Income\"].mode()[0], inplace=True)"
      ],
      "metadata": {
        "id": "dgPR8XxB3DsN"
      },
      "execution_count": 34,
      "outputs": []
    },
    {
      "cell_type": "markdown",
      "source": [
        "<div>\n",
        "\n",
        "  #### Replace missing data with column mode\n",
        "\n",
        "</div>\n"
      ],
      "metadata": {
        "id": "DONqvxbiNo5v"
      }
    },
    {
      "cell_type": "code",
      "source": [
        "for column_name in columns_have_null_value:\n",
        "  dataset[column_name].fillna(dataset[column_name].mode()[0], inplace=True)\n",
        "\n",
        "dataset.isna().sum()"
      ],
      "metadata": {
        "colab": {
          "base_uri": "https://localhost:8080/"
        },
        "id": "GPRrLTHLNFMr",
        "outputId": "b1ccfd68-0c92-4114-b1c0-67ef14cc4df5"
      },
      "execution_count": 35,
      "outputs": [
        {
          "output_type": "execute_result",
          "data": {
            "text/plain": [
              "Diabetes_binary              0\n",
              "HighBP                       0\n",
              "High_Cholesterol             0\n",
              "Cholesterol_Check            0\n",
              "BMI                          0\n",
              "Smoker                       0\n",
              "Stroke                       0\n",
              "HeartDiseaseorAttack         0\n",
              "Physical_Activity            0\n",
              "Fruits                       0\n",
              "Veggies                      0\n",
              "Heavy_Alcohol_Consumption    0\n",
              "Any_Health_Care              0\n",
              "No_Doctor_because_of_Cost    0\n",
              "General_Health               0\n",
              "Mental_Health                0\n",
              "Physical_Health              0\n",
              "Difficulty_Walking           0\n",
              "Sex                          0\n",
              "Age                          0\n",
              "Education                    0\n",
              "Income                       0\n",
              "dtype: int64"
            ]
          },
          "metadata": {},
          "execution_count": 35
        }
      ]
    },
    {
      "cell_type": "markdown",
      "source": [
        "## Normalization"
      ],
      "metadata": {
        "id": "1R0xQUJDXYtN"
      }
    },
    {
      "cell_type": "markdown",
      "source": [
        "<div>\n",
        "\n",
        "  ### Min-Max normalization on numeric data\n",
        "\n",
        "</div>\n"
      ],
      "metadata": {
        "id": "GH-HxOv2XuCm"
      }
    },
    {
      "cell_type": "code",
      "source": [
        "dataset[\"Age\"].describe()\n"
      ],
      "metadata": {
        "colab": {
          "base_uri": "https://localhost:8080/"
        },
        "id": "2B1CUOT_Y1Ca",
        "outputId": "9abdf1d1-ebb8-4869-8420-31f8271fc81a"
      },
      "execution_count": 38,
      "outputs": [
        {
          "output_type": "execute_result",
          "data": {
            "text/plain": [
              "count    70691.000000\n",
              "mean         8.584105\n",
              "std          2.852141\n",
              "min          1.000000\n",
              "25%          7.000000\n",
              "50%          9.000000\n",
              "75%         11.000000\n",
              "max         13.000000\n",
              "Name: Age, dtype: float64"
            ]
          },
          "metadata": {},
          "execution_count": 38
        }
      ]
    },
    {
      "cell_type": "code",
      "source": [
        "dataset[\"Physical_Health\"].describe()"
      ],
      "metadata": {
        "colab": {
          "base_uri": "https://localhost:8080/"
        },
        "id": "3lmaNsssZNZg",
        "outputId": "b9f4eb35-7f56-4cc6-dd31-70e98e97539d"
      },
      "execution_count": 39,
      "outputs": [
        {
          "output_type": "execute_result",
          "data": {
            "text/plain": [
              "count    70691.000000\n",
              "mean         5.810499\n",
              "std         10.062308\n",
              "min          0.000000\n",
              "25%          0.000000\n",
              "50%          0.000000\n",
              "75%          6.000000\n",
              "max         30.000000\n",
              "Name: Physical_Health, dtype: float64"
            ]
          },
          "metadata": {},
          "execution_count": 39
        }
      ]
    },
    {
      "cell_type": "code",
      "source": [
        "dataset[\"Mental_Health\"].describe()"
      ],
      "metadata": {
        "colab": {
          "base_uri": "https://localhost:8080/"
        },
        "id": "wImUxdrYZNkS",
        "outputId": "8dd4f2ff-6268-4a3e-8a72-836c12a9e733"
      },
      "execution_count": 40,
      "outputs": [
        {
          "output_type": "execute_result",
          "data": {
            "text/plain": [
              "count    70691.000000\n",
              "mean         3.752062\n",
              "std          8.155682\n",
              "min          0.000000\n",
              "25%          0.000000\n",
              "50%          0.000000\n",
              "75%          2.000000\n",
              "max         30.000000\n",
              "Name: Mental_Health, dtype: float64"
            ]
          },
          "metadata": {},
          "execution_count": 40
        }
      ]
    },
    {
      "cell_type": "code",
      "source": [
        "min_max_scaler = MinMaxScaler()\n",
        "dataset[[\"Age\", \"Physical_Health\", \"Mental_Health\"]] = min_max_scaler.fit_transform(dataset[[\"Age\", \"Physical_Health\", \"Mental_Health\"]])"
      ],
      "metadata": {
        "id": "G60C--WlXstu"
      },
      "execution_count": 41,
      "outputs": []
    },
    {
      "cell_type": "code",
      "source": [
        "dataset[\"Age\"].describe()"
      ],
      "metadata": {
        "colab": {
          "base_uri": "https://localhost:8080/"
        },
        "id": "yoBn-lj_Yvq_",
        "outputId": "5e36e592-f1fd-48a8-f997-17477a3fc7f5"
      },
      "execution_count": 42,
      "outputs": [
        {
          "output_type": "execute_result",
          "data": {
            "text/plain": [
              "count    70691.000000\n",
              "mean         0.632009\n",
              "std          0.237678\n",
              "min          0.000000\n",
              "25%          0.500000\n",
              "50%          0.666667\n",
              "75%          0.833333\n",
              "max          1.000000\n",
              "Name: Age, dtype: float64"
            ]
          },
          "metadata": {},
          "execution_count": 42
        }
      ]
    },
    {
      "cell_type": "code",
      "source": [
        "dataset[\"Physical_Health\"].describe()"
      ],
      "metadata": {
        "colab": {
          "base_uri": "https://localhost:8080/"
        },
        "id": "swa6pxepZhwl",
        "outputId": "a159c01d-02e0-455f-ed73-d67cc99f850c"
      },
      "execution_count": 43,
      "outputs": [
        {
          "output_type": "execute_result",
          "data": {
            "text/plain": [
              "count    70691.000000\n",
              "mean         0.193683\n",
              "std          0.335410\n",
              "min          0.000000\n",
              "25%          0.000000\n",
              "50%          0.000000\n",
              "75%          0.200000\n",
              "max          1.000000\n",
              "Name: Physical_Health, dtype: float64"
            ]
          },
          "metadata": {},
          "execution_count": 43
        }
      ]
    },
    {
      "cell_type": "code",
      "source": [
        "dataset[\"Mental_Health\"].describe()"
      ],
      "metadata": {
        "colab": {
          "base_uri": "https://localhost:8080/"
        },
        "id": "I3fFuclWZh6B",
        "outputId": "02d1f474-a340-49de-ba21-ff497b6f8bd3"
      },
      "execution_count": 44,
      "outputs": [
        {
          "output_type": "execute_result",
          "data": {
            "text/plain": [
              "count    70691.000000\n",
              "mean         0.125069\n",
              "std          0.271856\n",
              "min          0.000000\n",
              "25%          0.000000\n",
              "50%          0.000000\n",
              "75%          0.066667\n",
              "max          1.000000\n",
              "Name: Mental_Health, dtype: float64"
            ]
          },
          "metadata": {},
          "execution_count": 44
        }
      ]
    },
    {
      "cell_type": "markdown",
      "source": [
        "<div>\n",
        "\n",
        "  ### categorize BMI values\n",
        "\n",
        "</div>"
      ],
      "metadata": {
        "id": "V4Gtb1RpZsoL"
      }
    },
    {
      "cell_type": "markdown",
      "source": [
        "<!-- for BMI range check this[BMI](https://www.nhs.uk/common-health-questions/lifestyle/what-is-the-body-mass-index-bmi/#:~:text=BMI%20ranges&text=below%2018.5%20%E2%80%93%20you're%20in,re%20in%20the%20obese%20range) -->"
      ],
      "metadata": {
        "id": "mHWdxXbJaGr3"
      }
    },
    {
      "cell_type": "code",
      "source": [
        "dataset[\"BMI\"] = pd.cut(dataset[\"BMI\"], bins=[0, 18.5, 24.9, 29.9, 100], labels=[\"underweight\", \"healthy\", \"overweight\", \"obese\"])\n",
        "dataset[\"BMI\"].describe"
      ],
      "metadata": {
        "colab": {
          "base_uri": "https://localhost:8080/"
        },
        "id": "l8Gg4TtaZoHl",
        "outputId": "dc672798-bc02-48a0-b855-3fb027b31313"
      },
      "execution_count": 45,
      "outputs": [
        {
          "output_type": "execute_result",
          "data": {
            "text/plain": [
              "<bound method NDFrame.describe of 0         overweight\n",
              "1         overweight\n",
              "2         overweight\n",
              "3         overweight\n",
              "4         overweight\n",
              "            ...     \n",
              "70687          obese\n",
              "70688     overweight\n",
              "70689     overweight\n",
              "70690    underweight\n",
              "70691     overweight\n",
              "Name: BMI, Length: 70691, dtype: category\n",
              "Categories (4, object): ['underweight' < 'healthy' < 'overweight' < 'obese']>"
            ]
          },
          "metadata": {},
          "execution_count": 45
        }
      ]
    },
    {
      "cell_type": "code",
      "source": [
        "dataset"
      ],
      "metadata": {
        "colab": {
          "base_uri": "https://localhost:8080/",
          "height": 488
        },
        "id": "9qihl3IXcFeF",
        "outputId": "005c6378-59d3-4b96-d762-4e87dd344071"
      },
      "execution_count": 46,
      "outputs": [
        {
          "output_type": "execute_result",
          "data": {
            "text/plain": [
              "       Diabetes_binary  HighBP  High_Cholesterol  Cholesterol_Check  \\\n",
              "0                  0.0     1.0               0.0                1.0   \n",
              "1                  0.0     1.0               1.0                1.0   \n",
              "2                  0.0     0.0               0.0                1.0   \n",
              "3                  0.0     1.0               1.0                1.0   \n",
              "4                  0.0     0.0               0.0                1.0   \n",
              "...                ...     ...               ...                ...   \n",
              "70687              1.0     0.0               1.0                1.0   \n",
              "70688              1.0     0.0               1.0                1.0   \n",
              "70689              1.0     1.0               1.0                1.0   \n",
              "70690              1.0     1.0               1.0                1.0   \n",
              "70691              1.0     1.0               1.0                1.0   \n",
              "\n",
              "               BMI  Smoker  Stroke  HeartDiseaseorAttack  Physical_Activity  \\\n",
              "0       overweight     0.0     0.0                   0.0                1.0   \n",
              "1       overweight     1.0     1.0                   0.0                0.0   \n",
              "2       overweight     0.0     0.0                   0.0                1.0   \n",
              "3       overweight     1.0     0.0                   0.0                1.0   \n",
              "4       overweight     1.0     0.0                   0.0                1.0   \n",
              "...            ...     ...     ...                   ...                ...   \n",
              "70687        obese     0.0     0.0                   0.0                0.0   \n",
              "70688   overweight     1.0     0.0                   1.0                0.0   \n",
              "70689   overweight     0.0     0.0                   1.0                0.0   \n",
              "70690  underweight     0.0     0.0                   0.0                0.0   \n",
              "70691   overweight     0.0     0.0                   1.0                1.0   \n",
              "\n",
              "       Fruits  ...  Any_Health_Care  No_Doctor_because_of_Cost  \\\n",
              "0         0.0  ...              1.0                        0.0   \n",
              "1         1.0  ...              1.0                        0.0   \n",
              "2         1.0  ...              1.0                        0.0   \n",
              "3         1.0  ...              1.0                        0.0   \n",
              "4         1.0  ...              1.0                        0.0   \n",
              "...       ...  ...              ...                        ...   \n",
              "70687     0.0  ...              1.0                        0.0   \n",
              "70688     1.0  ...              1.0                        0.0   \n",
              "70689     1.0  ...              1.0                        0.0   \n",
              "70690     0.0  ...              1.0                        0.0   \n",
              "70691     1.0  ...              1.0                        0.0   \n",
              "\n",
              "       General_Health  Mental_Health Physical_Health  Difficulty_Walking  \\\n",
              "0              Medium       0.166667        1.000000                 0.0   \n",
              "1              Medium       0.000000        0.000000                 0.0   \n",
              "2                High       0.000000        0.333333                 0.0   \n",
              "3              Medium       0.000000        0.100000                 0.0   \n",
              "4                Good       0.000000        0.000000                 0.0   \n",
              "...               ...            ...             ...                 ...   \n",
              "70687             Low       0.000000        0.000000                 0.0   \n",
              "70688            Good       0.000000        0.000000                 1.0   \n",
              "70689        Very_Low       0.500000        0.000000                 1.0   \n",
              "70690             Low       0.000000        0.000000                 1.0   \n",
              "70691            Good       0.000000        0.000000                 0.0   \n",
              "\n",
              "          Sex       Age Education  Income  \n",
              "0        male  0.250000      Cat6    Cat8  \n",
              "1        male  0.916667      Cat6    Cat8  \n",
              "2        male  1.000000      Cat6    Cat8  \n",
              "3        male  0.833333      Cat6    Cat8  \n",
              "4      female  0.583333      Cat5    Cat8  \n",
              "...       ...       ...       ...     ...  \n",
              "70687  female  0.416667      Cat4    Cat1  \n",
              "70688    male  0.750000      Cat3    Cat6  \n",
              "70689  female  1.000000      Cat6    Cat4  \n",
              "70690  female  0.833333      Cat2    Cat4  \n",
              "70691  female  0.666667      Cat6    Cat2  \n",
              "\n",
              "[70691 rows x 22 columns]"
            ],
            "text/html": [
              "\n",
              "  <div id=\"df-468c1652-62a2-4970-a240-661ecb485537\">\n",
              "    <div class=\"colab-df-container\">\n",
              "      <div>\n",
              "<style scoped>\n",
              "    .dataframe tbody tr th:only-of-type {\n",
              "        vertical-align: middle;\n",
              "    }\n",
              "\n",
              "    .dataframe tbody tr th {\n",
              "        vertical-align: top;\n",
              "    }\n",
              "\n",
              "    .dataframe thead th {\n",
              "        text-align: right;\n",
              "    }\n",
              "</style>\n",
              "<table border=\"1\" class=\"dataframe\">\n",
              "  <thead>\n",
              "    <tr style=\"text-align: right;\">\n",
              "      <th></th>\n",
              "      <th>Diabetes_binary</th>\n",
              "      <th>HighBP</th>\n",
              "      <th>High_Cholesterol</th>\n",
              "      <th>Cholesterol_Check</th>\n",
              "      <th>BMI</th>\n",
              "      <th>Smoker</th>\n",
              "      <th>Stroke</th>\n",
              "      <th>HeartDiseaseorAttack</th>\n",
              "      <th>Physical_Activity</th>\n",
              "      <th>Fruits</th>\n",
              "      <th>...</th>\n",
              "      <th>Any_Health_Care</th>\n",
              "      <th>No_Doctor_because_of_Cost</th>\n",
              "      <th>General_Health</th>\n",
              "      <th>Mental_Health</th>\n",
              "      <th>Physical_Health</th>\n",
              "      <th>Difficulty_Walking</th>\n",
              "      <th>Sex</th>\n",
              "      <th>Age</th>\n",
              "      <th>Education</th>\n",
              "      <th>Income</th>\n",
              "    </tr>\n",
              "  </thead>\n",
              "  <tbody>\n",
              "    <tr>\n",
              "      <th>0</th>\n",
              "      <td>0.0</td>\n",
              "      <td>1.0</td>\n",
              "      <td>0.0</td>\n",
              "      <td>1.0</td>\n",
              "      <td>overweight</td>\n",
              "      <td>0.0</td>\n",
              "      <td>0.0</td>\n",
              "      <td>0.0</td>\n",
              "      <td>1.0</td>\n",
              "      <td>0.0</td>\n",
              "      <td>...</td>\n",
              "      <td>1.0</td>\n",
              "      <td>0.0</td>\n",
              "      <td>Medium</td>\n",
              "      <td>0.166667</td>\n",
              "      <td>1.000000</td>\n",
              "      <td>0.0</td>\n",
              "      <td>male</td>\n",
              "      <td>0.250000</td>\n",
              "      <td>Cat6</td>\n",
              "      <td>Cat8</td>\n",
              "    </tr>\n",
              "    <tr>\n",
              "      <th>1</th>\n",
              "      <td>0.0</td>\n",
              "      <td>1.0</td>\n",
              "      <td>1.0</td>\n",
              "      <td>1.0</td>\n",
              "      <td>overweight</td>\n",
              "      <td>1.0</td>\n",
              "      <td>1.0</td>\n",
              "      <td>0.0</td>\n",
              "      <td>0.0</td>\n",
              "      <td>1.0</td>\n",
              "      <td>...</td>\n",
              "      <td>1.0</td>\n",
              "      <td>0.0</td>\n",
              "      <td>Medium</td>\n",
              "      <td>0.000000</td>\n",
              "      <td>0.000000</td>\n",
              "      <td>0.0</td>\n",
              "      <td>male</td>\n",
              "      <td>0.916667</td>\n",
              "      <td>Cat6</td>\n",
              "      <td>Cat8</td>\n",
              "    </tr>\n",
              "    <tr>\n",
              "      <th>2</th>\n",
              "      <td>0.0</td>\n",
              "      <td>0.0</td>\n",
              "      <td>0.0</td>\n",
              "      <td>1.0</td>\n",
              "      <td>overweight</td>\n",
              "      <td>0.0</td>\n",
              "      <td>0.0</td>\n",
              "      <td>0.0</td>\n",
              "      <td>1.0</td>\n",
              "      <td>1.0</td>\n",
              "      <td>...</td>\n",
              "      <td>1.0</td>\n",
              "      <td>0.0</td>\n",
              "      <td>High</td>\n",
              "      <td>0.000000</td>\n",
              "      <td>0.333333</td>\n",
              "      <td>0.0</td>\n",
              "      <td>male</td>\n",
              "      <td>1.000000</td>\n",
              "      <td>Cat6</td>\n",
              "      <td>Cat8</td>\n",
              "    </tr>\n",
              "    <tr>\n",
              "      <th>3</th>\n",
              "      <td>0.0</td>\n",
              "      <td>1.0</td>\n",
              "      <td>1.0</td>\n",
              "      <td>1.0</td>\n",
              "      <td>overweight</td>\n",
              "      <td>1.0</td>\n",
              "      <td>0.0</td>\n",
              "      <td>0.0</td>\n",
              "      <td>1.0</td>\n",
              "      <td>1.0</td>\n",
              "      <td>...</td>\n",
              "      <td>1.0</td>\n",
              "      <td>0.0</td>\n",
              "      <td>Medium</td>\n",
              "      <td>0.000000</td>\n",
              "      <td>0.100000</td>\n",
              "      <td>0.0</td>\n",
              "      <td>male</td>\n",
              "      <td>0.833333</td>\n",
              "      <td>Cat6</td>\n",
              "      <td>Cat8</td>\n",
              "    </tr>\n",
              "    <tr>\n",
              "      <th>4</th>\n",
              "      <td>0.0</td>\n",
              "      <td>0.0</td>\n",
              "      <td>0.0</td>\n",
              "      <td>1.0</td>\n",
              "      <td>overweight</td>\n",
              "      <td>1.0</td>\n",
              "      <td>0.0</td>\n",
              "      <td>0.0</td>\n",
              "      <td>1.0</td>\n",
              "      <td>1.0</td>\n",
              "      <td>...</td>\n",
              "      <td>1.0</td>\n",
              "      <td>0.0</td>\n",
              "      <td>Good</td>\n",
              "      <td>0.000000</td>\n",
              "      <td>0.000000</td>\n",
              "      <td>0.0</td>\n",
              "      <td>female</td>\n",
              "      <td>0.583333</td>\n",
              "      <td>Cat5</td>\n",
              "      <td>Cat8</td>\n",
              "    </tr>\n",
              "    <tr>\n",
              "      <th>...</th>\n",
              "      <td>...</td>\n",
              "      <td>...</td>\n",
              "      <td>...</td>\n",
              "      <td>...</td>\n",
              "      <td>...</td>\n",
              "      <td>...</td>\n",
              "      <td>...</td>\n",
              "      <td>...</td>\n",
              "      <td>...</td>\n",
              "      <td>...</td>\n",
              "      <td>...</td>\n",
              "      <td>...</td>\n",
              "      <td>...</td>\n",
              "      <td>...</td>\n",
              "      <td>...</td>\n",
              "      <td>...</td>\n",
              "      <td>...</td>\n",
              "      <td>...</td>\n",
              "      <td>...</td>\n",
              "      <td>...</td>\n",
              "      <td>...</td>\n",
              "    </tr>\n",
              "    <tr>\n",
              "      <th>70687</th>\n",
              "      <td>1.0</td>\n",
              "      <td>0.0</td>\n",
              "      <td>1.0</td>\n",
              "      <td>1.0</td>\n",
              "      <td>obese</td>\n",
              "      <td>0.0</td>\n",
              "      <td>0.0</td>\n",
              "      <td>0.0</td>\n",
              "      <td>0.0</td>\n",
              "      <td>0.0</td>\n",
              "      <td>...</td>\n",
              "      <td>1.0</td>\n",
              "      <td>0.0</td>\n",
              "      <td>Low</td>\n",
              "      <td>0.000000</td>\n",
              "      <td>0.000000</td>\n",
              "      <td>0.0</td>\n",
              "      <td>female</td>\n",
              "      <td>0.416667</td>\n",
              "      <td>Cat4</td>\n",
              "      <td>Cat1</td>\n",
              "    </tr>\n",
              "    <tr>\n",
              "      <th>70688</th>\n",
              "      <td>1.0</td>\n",
              "      <td>0.0</td>\n",
              "      <td>1.0</td>\n",
              "      <td>1.0</td>\n",
              "      <td>overweight</td>\n",
              "      <td>1.0</td>\n",
              "      <td>0.0</td>\n",
              "      <td>1.0</td>\n",
              "      <td>0.0</td>\n",
              "      <td>1.0</td>\n",
              "      <td>...</td>\n",
              "      <td>1.0</td>\n",
              "      <td>0.0</td>\n",
              "      <td>Good</td>\n",
              "      <td>0.000000</td>\n",
              "      <td>0.000000</td>\n",
              "      <td>1.0</td>\n",
              "      <td>male</td>\n",
              "      <td>0.750000</td>\n",
              "      <td>Cat3</td>\n",
              "      <td>Cat6</td>\n",
              "    </tr>\n",
              "    <tr>\n",
              "      <th>70689</th>\n",
              "      <td>1.0</td>\n",
              "      <td>1.0</td>\n",
              "      <td>1.0</td>\n",
              "      <td>1.0</td>\n",
              "      <td>overweight</td>\n",
              "      <td>0.0</td>\n",
              "      <td>0.0</td>\n",
              "      <td>1.0</td>\n",
              "      <td>0.0</td>\n",
              "      <td>1.0</td>\n",
              "      <td>...</td>\n",
              "      <td>1.0</td>\n",
              "      <td>0.0</td>\n",
              "      <td>Very_Low</td>\n",
              "      <td>0.500000</td>\n",
              "      <td>0.000000</td>\n",
              "      <td>1.0</td>\n",
              "      <td>female</td>\n",
              "      <td>1.000000</td>\n",
              "      <td>Cat6</td>\n",
              "      <td>Cat4</td>\n",
              "    </tr>\n",
              "    <tr>\n",
              "      <th>70690</th>\n",
              "      <td>1.0</td>\n",
              "      <td>1.0</td>\n",
              "      <td>1.0</td>\n",
              "      <td>1.0</td>\n",
              "      <td>underweight</td>\n",
              "      <td>0.0</td>\n",
              "      <td>0.0</td>\n",
              "      <td>0.0</td>\n",
              "      <td>0.0</td>\n",
              "      <td>0.0</td>\n",
              "      <td>...</td>\n",
              "      <td>1.0</td>\n",
              "      <td>0.0</td>\n",
              "      <td>Low</td>\n",
              "      <td>0.000000</td>\n",
              "      <td>0.000000</td>\n",
              "      <td>1.0</td>\n",
              "      <td>female</td>\n",
              "      <td>0.833333</td>\n",
              "      <td>Cat2</td>\n",
              "      <td>Cat4</td>\n",
              "    </tr>\n",
              "    <tr>\n",
              "      <th>70691</th>\n",
              "      <td>1.0</td>\n",
              "      <td>1.0</td>\n",
              "      <td>1.0</td>\n",
              "      <td>1.0</td>\n",
              "      <td>overweight</td>\n",
              "      <td>0.0</td>\n",
              "      <td>0.0</td>\n",
              "      <td>1.0</td>\n",
              "      <td>1.0</td>\n",
              "      <td>1.0</td>\n",
              "      <td>...</td>\n",
              "      <td>1.0</td>\n",
              "      <td>0.0</td>\n",
              "      <td>Good</td>\n",
              "      <td>0.000000</td>\n",
              "      <td>0.000000</td>\n",
              "      <td>0.0</td>\n",
              "      <td>female</td>\n",
              "      <td>0.666667</td>\n",
              "      <td>Cat6</td>\n",
              "      <td>Cat2</td>\n",
              "    </tr>\n",
              "  </tbody>\n",
              "</table>\n",
              "<p>70691 rows × 22 columns</p>\n",
              "</div>\n",
              "      <button class=\"colab-df-convert\" onclick=\"convertToInteractive('df-468c1652-62a2-4970-a240-661ecb485537')\"\n",
              "              title=\"Convert this dataframe to an interactive table.\"\n",
              "              style=\"display:none;\">\n",
              "        \n",
              "  <svg xmlns=\"http://www.w3.org/2000/svg\" height=\"24px\"viewBox=\"0 0 24 24\"\n",
              "       width=\"24px\">\n",
              "    <path d=\"M0 0h24v24H0V0z\" fill=\"none\"/>\n",
              "    <path d=\"M18.56 5.44l.94 2.06.94-2.06 2.06-.94-2.06-.94-.94-2.06-.94 2.06-2.06.94zm-11 1L8.5 8.5l.94-2.06 2.06-.94-2.06-.94L8.5 2.5l-.94 2.06-2.06.94zm10 10l.94 2.06.94-2.06 2.06-.94-2.06-.94-.94-2.06-.94 2.06-2.06.94z\"/><path d=\"M17.41 7.96l-1.37-1.37c-.4-.4-.92-.59-1.43-.59-.52 0-1.04.2-1.43.59L10.3 9.45l-7.72 7.72c-.78.78-.78 2.05 0 2.83L4 21.41c.39.39.9.59 1.41.59.51 0 1.02-.2 1.41-.59l7.78-7.78 2.81-2.81c.8-.78.8-2.07 0-2.86zM5.41 20L4 18.59l7.72-7.72 1.47 1.35L5.41 20z\"/>\n",
              "  </svg>\n",
              "      </button>\n",
              "      \n",
              "  <style>\n",
              "    .colab-df-container {\n",
              "      display:flex;\n",
              "      flex-wrap:wrap;\n",
              "      gap: 12px;\n",
              "    }\n",
              "\n",
              "    .colab-df-convert {\n",
              "      background-color: #E8F0FE;\n",
              "      border: none;\n",
              "      border-radius: 50%;\n",
              "      cursor: pointer;\n",
              "      display: none;\n",
              "      fill: #1967D2;\n",
              "      height: 32px;\n",
              "      padding: 0 0 0 0;\n",
              "      width: 32px;\n",
              "    }\n",
              "\n",
              "    .colab-df-convert:hover {\n",
              "      background-color: #E2EBFA;\n",
              "      box-shadow: 0px 1px 2px rgba(60, 64, 67, 0.3), 0px 1px 3px 1px rgba(60, 64, 67, 0.15);\n",
              "      fill: #174EA6;\n",
              "    }\n",
              "\n",
              "    [theme=dark] .colab-df-convert {\n",
              "      background-color: #3B4455;\n",
              "      fill: #D2E3FC;\n",
              "    }\n",
              "\n",
              "    [theme=dark] .colab-df-convert:hover {\n",
              "      background-color: #434B5C;\n",
              "      box-shadow: 0px 1px 3px 1px rgba(0, 0, 0, 0.15);\n",
              "      filter: drop-shadow(0px 1px 2px rgba(0, 0, 0, 0.3));\n",
              "      fill: #FFFFFF;\n",
              "    }\n",
              "  </style>\n",
              "\n",
              "      <script>\n",
              "        const buttonEl =\n",
              "          document.querySelector('#df-468c1652-62a2-4970-a240-661ecb485537 button.colab-df-convert');\n",
              "        buttonEl.style.display =\n",
              "          google.colab.kernel.accessAllowed ? 'block' : 'none';\n",
              "\n",
              "        async function convertToInteractive(key) {\n",
              "          const element = document.querySelector('#df-468c1652-62a2-4970-a240-661ecb485537');\n",
              "          const dataTable =\n",
              "            await google.colab.kernel.invokeFunction('convertToInteractive',\n",
              "                                                     [key], {});\n",
              "          if (!dataTable) return;\n",
              "\n",
              "          const docLinkHtml = 'Like what you see? Visit the ' +\n",
              "            '<a target=\"_blank\" href=https://colab.research.google.com/notebooks/data_table.ipynb>data table notebook</a>'\n",
              "            + ' to learn more about interactive tables.';\n",
              "          element.innerHTML = '';\n",
              "          dataTable['output_type'] = 'display_data';\n",
              "          await google.colab.output.renderOutput(dataTable, element);\n",
              "          const docLink = document.createElement('div');\n",
              "          docLink.innerHTML = docLinkHtml;\n",
              "          element.appendChild(docLink);\n",
              "        }\n",
              "      </script>\n",
              "    </div>\n",
              "  </div>\n",
              "  "
            ]
          },
          "metadata": {},
          "execution_count": 46
        }
      ]
    },
    {
      "cell_type": "markdown",
      "source": [
        "## One-hot-encoding for categorized features"
      ],
      "metadata": {
        "id": "Z3l1LVaRz3Cj"
      }
    },
    {
      "cell_type": "code",
      "source": [
        "categorical_columns = [\"BMI\", \"General_Health\", \"Sex\", \"Education\", \"Income\"]\n",
        "for column in categorical_columns:\n",
        "  one_hot_encode = pd.get_dummies(dataset[column], prefix=column)\n",
        "  dataset = dataset.join(one_hot_encode)\n",
        "  dataset.drop(column, axis=1, inplace=True)\n",
        "\n",
        "dataset"
      ],
      "metadata": {
        "colab": {
          "base_uri": "https://localhost:8080/",
          "height": 488
        },
        "id": "zmRXc_ZWz_Pz",
        "outputId": "2d214dd5-181b-433a-c9bc-6aef16d24456"
      },
      "execution_count": 47,
      "outputs": [
        {
          "output_type": "execute_result",
          "data": {
            "text/plain": [
              "       Diabetes_binary  HighBP  High_Cholesterol  Cholesterol_Check  Smoker  \\\n",
              "0                  0.0     1.0               0.0                1.0     0.0   \n",
              "1                  0.0     1.0               1.0                1.0     1.0   \n",
              "2                  0.0     0.0               0.0                1.0     0.0   \n",
              "3                  0.0     1.0               1.0                1.0     1.0   \n",
              "4                  0.0     0.0               0.0                1.0     1.0   \n",
              "...                ...     ...               ...                ...     ...   \n",
              "70687              1.0     0.0               1.0                1.0     0.0   \n",
              "70688              1.0     0.0               1.0                1.0     1.0   \n",
              "70689              1.0     1.0               1.0                1.0     0.0   \n",
              "70690              1.0     1.0               1.0                1.0     0.0   \n",
              "70691              1.0     1.0               1.0                1.0     0.0   \n",
              "\n",
              "       Stroke  HeartDiseaseorAttack  Physical_Activity  Fruits  Veggies  ...  \\\n",
              "0         0.0                   0.0                1.0     0.0      1.0  ...   \n",
              "1         1.0                   0.0                0.0     1.0      0.0  ...   \n",
              "2         0.0                   0.0                1.0     1.0      1.0  ...   \n",
              "3         0.0                   0.0                1.0     1.0      1.0  ...   \n",
              "4         0.0                   0.0                1.0     1.0      1.0  ...   \n",
              "...       ...                   ...                ...     ...      ...  ...   \n",
              "70687     0.0                   0.0                0.0     0.0      1.0  ...   \n",
              "70688     0.0                   1.0                0.0     1.0      1.0  ...   \n",
              "70689     0.0                   1.0                0.0     1.0      0.0  ...   \n",
              "70690     0.0                   0.0                0.0     0.0      0.0  ...   \n",
              "70691     0.0                   1.0                1.0     1.0      0.0  ...   \n",
              "\n",
              "       Education_Cat5  Education_Cat6  Income_Cat1  Income_Cat2  Income_Cat3  \\\n",
              "0                   0               1            0            0            0   \n",
              "1                   0               1            0            0            0   \n",
              "2                   0               1            0            0            0   \n",
              "3                   0               1            0            0            0   \n",
              "4                   1               0            0            0            0   \n",
              "...               ...             ...          ...          ...          ...   \n",
              "70687               0               0            1            0            0   \n",
              "70688               0               0            0            0            0   \n",
              "70689               0               1            0            0            0   \n",
              "70690               0               0            0            0            0   \n",
              "70691               0               1            0            1            0   \n",
              "\n",
              "       Income_Cat4  Income_Cat5  Income_Cat6  Income_Cat7  Income_Cat8  \n",
              "0                0            0            0            0            1  \n",
              "1                0            0            0            0            1  \n",
              "2                0            0            0            0            1  \n",
              "3                0            0            0            0            1  \n",
              "4                0            0            0            0            1  \n",
              "...            ...          ...          ...          ...          ...  \n",
              "70687            0            0            0            0            0  \n",
              "70688            0            0            1            0            0  \n",
              "70689            1            0            0            0            0  \n",
              "70690            1            0            0            0            0  \n",
              "70691            0            0            0            0            0  \n",
              "\n",
              "[70691 rows x 42 columns]"
            ],
            "text/html": [
              "\n",
              "  <div id=\"df-4ee0beab-1019-4b5b-bf32-729384b67ce5\">\n",
              "    <div class=\"colab-df-container\">\n",
              "      <div>\n",
              "<style scoped>\n",
              "    .dataframe tbody tr th:only-of-type {\n",
              "        vertical-align: middle;\n",
              "    }\n",
              "\n",
              "    .dataframe tbody tr th {\n",
              "        vertical-align: top;\n",
              "    }\n",
              "\n",
              "    .dataframe thead th {\n",
              "        text-align: right;\n",
              "    }\n",
              "</style>\n",
              "<table border=\"1\" class=\"dataframe\">\n",
              "  <thead>\n",
              "    <tr style=\"text-align: right;\">\n",
              "      <th></th>\n",
              "      <th>Diabetes_binary</th>\n",
              "      <th>HighBP</th>\n",
              "      <th>High_Cholesterol</th>\n",
              "      <th>Cholesterol_Check</th>\n",
              "      <th>Smoker</th>\n",
              "      <th>Stroke</th>\n",
              "      <th>HeartDiseaseorAttack</th>\n",
              "      <th>Physical_Activity</th>\n",
              "      <th>Fruits</th>\n",
              "      <th>Veggies</th>\n",
              "      <th>...</th>\n",
              "      <th>Education_Cat5</th>\n",
              "      <th>Education_Cat6</th>\n",
              "      <th>Income_Cat1</th>\n",
              "      <th>Income_Cat2</th>\n",
              "      <th>Income_Cat3</th>\n",
              "      <th>Income_Cat4</th>\n",
              "      <th>Income_Cat5</th>\n",
              "      <th>Income_Cat6</th>\n",
              "      <th>Income_Cat7</th>\n",
              "      <th>Income_Cat8</th>\n",
              "    </tr>\n",
              "  </thead>\n",
              "  <tbody>\n",
              "    <tr>\n",
              "      <th>0</th>\n",
              "      <td>0.0</td>\n",
              "      <td>1.0</td>\n",
              "      <td>0.0</td>\n",
              "      <td>1.0</td>\n",
              "      <td>0.0</td>\n",
              "      <td>0.0</td>\n",
              "      <td>0.0</td>\n",
              "      <td>1.0</td>\n",
              "      <td>0.0</td>\n",
              "      <td>1.0</td>\n",
              "      <td>...</td>\n",
              "      <td>0</td>\n",
              "      <td>1</td>\n",
              "      <td>0</td>\n",
              "      <td>0</td>\n",
              "      <td>0</td>\n",
              "      <td>0</td>\n",
              "      <td>0</td>\n",
              "      <td>0</td>\n",
              "      <td>0</td>\n",
              "      <td>1</td>\n",
              "    </tr>\n",
              "    <tr>\n",
              "      <th>1</th>\n",
              "      <td>0.0</td>\n",
              "      <td>1.0</td>\n",
              "      <td>1.0</td>\n",
              "      <td>1.0</td>\n",
              "      <td>1.0</td>\n",
              "      <td>1.0</td>\n",
              "      <td>0.0</td>\n",
              "      <td>0.0</td>\n",
              "      <td>1.0</td>\n",
              "      <td>0.0</td>\n",
              "      <td>...</td>\n",
              "      <td>0</td>\n",
              "      <td>1</td>\n",
              "      <td>0</td>\n",
              "      <td>0</td>\n",
              "      <td>0</td>\n",
              "      <td>0</td>\n",
              "      <td>0</td>\n",
              "      <td>0</td>\n",
              "      <td>0</td>\n",
              "      <td>1</td>\n",
              "    </tr>\n",
              "    <tr>\n",
              "      <th>2</th>\n",
              "      <td>0.0</td>\n",
              "      <td>0.0</td>\n",
              "      <td>0.0</td>\n",
              "      <td>1.0</td>\n",
              "      <td>0.0</td>\n",
              "      <td>0.0</td>\n",
              "      <td>0.0</td>\n",
              "      <td>1.0</td>\n",
              "      <td>1.0</td>\n",
              "      <td>1.0</td>\n",
              "      <td>...</td>\n",
              "      <td>0</td>\n",
              "      <td>1</td>\n",
              "      <td>0</td>\n",
              "      <td>0</td>\n",
              "      <td>0</td>\n",
              "      <td>0</td>\n",
              "      <td>0</td>\n",
              "      <td>0</td>\n",
              "      <td>0</td>\n",
              "      <td>1</td>\n",
              "    </tr>\n",
              "    <tr>\n",
              "      <th>3</th>\n",
              "      <td>0.0</td>\n",
              "      <td>1.0</td>\n",
              "      <td>1.0</td>\n",
              "      <td>1.0</td>\n",
              "      <td>1.0</td>\n",
              "      <td>0.0</td>\n",
              "      <td>0.0</td>\n",
              "      <td>1.0</td>\n",
              "      <td>1.0</td>\n",
              "      <td>1.0</td>\n",
              "      <td>...</td>\n",
              "      <td>0</td>\n",
              "      <td>1</td>\n",
              "      <td>0</td>\n",
              "      <td>0</td>\n",
              "      <td>0</td>\n",
              "      <td>0</td>\n",
              "      <td>0</td>\n",
              "      <td>0</td>\n",
              "      <td>0</td>\n",
              "      <td>1</td>\n",
              "    </tr>\n",
              "    <tr>\n",
              "      <th>4</th>\n",
              "      <td>0.0</td>\n",
              "      <td>0.0</td>\n",
              "      <td>0.0</td>\n",
              "      <td>1.0</td>\n",
              "      <td>1.0</td>\n",
              "      <td>0.0</td>\n",
              "      <td>0.0</td>\n",
              "      <td>1.0</td>\n",
              "      <td>1.0</td>\n",
              "      <td>1.0</td>\n",
              "      <td>...</td>\n",
              "      <td>1</td>\n",
              "      <td>0</td>\n",
              "      <td>0</td>\n",
              "      <td>0</td>\n",
              "      <td>0</td>\n",
              "      <td>0</td>\n",
              "      <td>0</td>\n",
              "      <td>0</td>\n",
              "      <td>0</td>\n",
              "      <td>1</td>\n",
              "    </tr>\n",
              "    <tr>\n",
              "      <th>...</th>\n",
              "      <td>...</td>\n",
              "      <td>...</td>\n",
              "      <td>...</td>\n",
              "      <td>...</td>\n",
              "      <td>...</td>\n",
              "      <td>...</td>\n",
              "      <td>...</td>\n",
              "      <td>...</td>\n",
              "      <td>...</td>\n",
              "      <td>...</td>\n",
              "      <td>...</td>\n",
              "      <td>...</td>\n",
              "      <td>...</td>\n",
              "      <td>...</td>\n",
              "      <td>...</td>\n",
              "      <td>...</td>\n",
              "      <td>...</td>\n",
              "      <td>...</td>\n",
              "      <td>...</td>\n",
              "      <td>...</td>\n",
              "      <td>...</td>\n",
              "    </tr>\n",
              "    <tr>\n",
              "      <th>70687</th>\n",
              "      <td>1.0</td>\n",
              "      <td>0.0</td>\n",
              "      <td>1.0</td>\n",
              "      <td>1.0</td>\n",
              "      <td>0.0</td>\n",
              "      <td>0.0</td>\n",
              "      <td>0.0</td>\n",
              "      <td>0.0</td>\n",
              "      <td>0.0</td>\n",
              "      <td>1.0</td>\n",
              "      <td>...</td>\n",
              "      <td>0</td>\n",
              "      <td>0</td>\n",
              "      <td>1</td>\n",
              "      <td>0</td>\n",
              "      <td>0</td>\n",
              "      <td>0</td>\n",
              "      <td>0</td>\n",
              "      <td>0</td>\n",
              "      <td>0</td>\n",
              "      <td>0</td>\n",
              "    </tr>\n",
              "    <tr>\n",
              "      <th>70688</th>\n",
              "      <td>1.0</td>\n",
              "      <td>0.0</td>\n",
              "      <td>1.0</td>\n",
              "      <td>1.0</td>\n",
              "      <td>1.0</td>\n",
              "      <td>0.0</td>\n",
              "      <td>1.0</td>\n",
              "      <td>0.0</td>\n",
              "      <td>1.0</td>\n",
              "      <td>1.0</td>\n",
              "      <td>...</td>\n",
              "      <td>0</td>\n",
              "      <td>0</td>\n",
              "      <td>0</td>\n",
              "      <td>0</td>\n",
              "      <td>0</td>\n",
              "      <td>0</td>\n",
              "      <td>0</td>\n",
              "      <td>1</td>\n",
              "      <td>0</td>\n",
              "      <td>0</td>\n",
              "    </tr>\n",
              "    <tr>\n",
              "      <th>70689</th>\n",
              "      <td>1.0</td>\n",
              "      <td>1.0</td>\n",
              "      <td>1.0</td>\n",
              "      <td>1.0</td>\n",
              "      <td>0.0</td>\n",
              "      <td>0.0</td>\n",
              "      <td>1.0</td>\n",
              "      <td>0.0</td>\n",
              "      <td>1.0</td>\n",
              "      <td>0.0</td>\n",
              "      <td>...</td>\n",
              "      <td>0</td>\n",
              "      <td>1</td>\n",
              "      <td>0</td>\n",
              "      <td>0</td>\n",
              "      <td>0</td>\n",
              "      <td>1</td>\n",
              "      <td>0</td>\n",
              "      <td>0</td>\n",
              "      <td>0</td>\n",
              "      <td>0</td>\n",
              "    </tr>\n",
              "    <tr>\n",
              "      <th>70690</th>\n",
              "      <td>1.0</td>\n",
              "      <td>1.0</td>\n",
              "      <td>1.0</td>\n",
              "      <td>1.0</td>\n",
              "      <td>0.0</td>\n",
              "      <td>0.0</td>\n",
              "      <td>0.0</td>\n",
              "      <td>0.0</td>\n",
              "      <td>0.0</td>\n",
              "      <td>0.0</td>\n",
              "      <td>...</td>\n",
              "      <td>0</td>\n",
              "      <td>0</td>\n",
              "      <td>0</td>\n",
              "      <td>0</td>\n",
              "      <td>0</td>\n",
              "      <td>1</td>\n",
              "      <td>0</td>\n",
              "      <td>0</td>\n",
              "      <td>0</td>\n",
              "      <td>0</td>\n",
              "    </tr>\n",
              "    <tr>\n",
              "      <th>70691</th>\n",
              "      <td>1.0</td>\n",
              "      <td>1.0</td>\n",
              "      <td>1.0</td>\n",
              "      <td>1.0</td>\n",
              "      <td>0.0</td>\n",
              "      <td>0.0</td>\n",
              "      <td>1.0</td>\n",
              "      <td>1.0</td>\n",
              "      <td>1.0</td>\n",
              "      <td>0.0</td>\n",
              "      <td>...</td>\n",
              "      <td>0</td>\n",
              "      <td>1</td>\n",
              "      <td>0</td>\n",
              "      <td>1</td>\n",
              "      <td>0</td>\n",
              "      <td>0</td>\n",
              "      <td>0</td>\n",
              "      <td>0</td>\n",
              "      <td>0</td>\n",
              "      <td>0</td>\n",
              "    </tr>\n",
              "  </tbody>\n",
              "</table>\n",
              "<p>70691 rows × 42 columns</p>\n",
              "</div>\n",
              "      <button class=\"colab-df-convert\" onclick=\"convertToInteractive('df-4ee0beab-1019-4b5b-bf32-729384b67ce5')\"\n",
              "              title=\"Convert this dataframe to an interactive table.\"\n",
              "              style=\"display:none;\">\n",
              "        \n",
              "  <svg xmlns=\"http://www.w3.org/2000/svg\" height=\"24px\"viewBox=\"0 0 24 24\"\n",
              "       width=\"24px\">\n",
              "    <path d=\"M0 0h24v24H0V0z\" fill=\"none\"/>\n",
              "    <path d=\"M18.56 5.44l.94 2.06.94-2.06 2.06-.94-2.06-.94-.94-2.06-.94 2.06-2.06.94zm-11 1L8.5 8.5l.94-2.06 2.06-.94-2.06-.94L8.5 2.5l-.94 2.06-2.06.94zm10 10l.94 2.06.94-2.06 2.06-.94-2.06-.94-.94-2.06-.94 2.06-2.06.94z\"/><path d=\"M17.41 7.96l-1.37-1.37c-.4-.4-.92-.59-1.43-.59-.52 0-1.04.2-1.43.59L10.3 9.45l-7.72 7.72c-.78.78-.78 2.05 0 2.83L4 21.41c.39.39.9.59 1.41.59.51 0 1.02-.2 1.41-.59l7.78-7.78 2.81-2.81c.8-.78.8-2.07 0-2.86zM5.41 20L4 18.59l7.72-7.72 1.47 1.35L5.41 20z\"/>\n",
              "  </svg>\n",
              "      </button>\n",
              "      \n",
              "  <style>\n",
              "    .colab-df-container {\n",
              "      display:flex;\n",
              "      flex-wrap:wrap;\n",
              "      gap: 12px;\n",
              "    }\n",
              "\n",
              "    .colab-df-convert {\n",
              "      background-color: #E8F0FE;\n",
              "      border: none;\n",
              "      border-radius: 50%;\n",
              "      cursor: pointer;\n",
              "      display: none;\n",
              "      fill: #1967D2;\n",
              "      height: 32px;\n",
              "      padding: 0 0 0 0;\n",
              "      width: 32px;\n",
              "    }\n",
              "\n",
              "    .colab-df-convert:hover {\n",
              "      background-color: #E2EBFA;\n",
              "      box-shadow: 0px 1px 2px rgba(60, 64, 67, 0.3), 0px 1px 3px 1px rgba(60, 64, 67, 0.15);\n",
              "      fill: #174EA6;\n",
              "    }\n",
              "\n",
              "    [theme=dark] .colab-df-convert {\n",
              "      background-color: #3B4455;\n",
              "      fill: #D2E3FC;\n",
              "    }\n",
              "\n",
              "    [theme=dark] .colab-df-convert:hover {\n",
              "      background-color: #434B5C;\n",
              "      box-shadow: 0px 1px 3px 1px rgba(0, 0, 0, 0.15);\n",
              "      filter: drop-shadow(0px 1px 2px rgba(0, 0, 0, 0.3));\n",
              "      fill: #FFFFFF;\n",
              "    }\n",
              "  </style>\n",
              "\n",
              "      <script>\n",
              "        const buttonEl =\n",
              "          document.querySelector('#df-4ee0beab-1019-4b5b-bf32-729384b67ce5 button.colab-df-convert');\n",
              "        buttonEl.style.display =\n",
              "          google.colab.kernel.accessAllowed ? 'block' : 'none';\n",
              "\n",
              "        async function convertToInteractive(key) {\n",
              "          const element = document.querySelector('#df-4ee0beab-1019-4b5b-bf32-729384b67ce5');\n",
              "          const dataTable =\n",
              "            await google.colab.kernel.invokeFunction('convertToInteractive',\n",
              "                                                     [key], {});\n",
              "          if (!dataTable) return;\n",
              "\n",
              "          const docLinkHtml = 'Like what you see? Visit the ' +\n",
              "            '<a target=\"_blank\" href=https://colab.research.google.com/notebooks/data_table.ipynb>data table notebook</a>'\n",
              "            + ' to learn more about interactive tables.';\n",
              "          element.innerHTML = '';\n",
              "          dataTable['output_type'] = 'display_data';\n",
              "          await google.colab.output.renderOutput(dataTable, element);\n",
              "          const docLink = document.createElement('div');\n",
              "          docLink.innerHTML = docLinkHtml;\n",
              "          element.appendChild(docLink);\n",
              "        }\n",
              "      </script>\n",
              "    </div>\n",
              "  </div>\n",
              "  "
            ]
          },
          "metadata": {},
          "execution_count": 47
        }
      ]
    },
    {
      "cell_type": "markdown",
      "source": [
        "## Split labels from features"
      ],
      "metadata": {
        "id": "ZxZPVGDc3yPV"
      }
    },
    {
      "cell_type": "code",
      "source": [
        "labels = dataset[\"Diabetes_binary\"]\n",
        "dataset.drop(\"Diabetes_binary\", axis=1, inplace=True)\n",
        "dataset"
      ],
      "metadata": {
        "colab": {
          "base_uri": "https://localhost:8080/",
          "height": 488
        },
        "id": "ZX2V7Ogn3yY_",
        "outputId": "f281bcf1-ba46-4855-951c-96291b56b99e"
      },
      "execution_count": 48,
      "outputs": [
        {
          "output_type": "execute_result",
          "data": {
            "text/plain": [
              "       HighBP  High_Cholesterol  Cholesterol_Check  Smoker  Stroke  \\\n",
              "0         1.0               0.0                1.0     0.0     0.0   \n",
              "1         1.0               1.0                1.0     1.0     1.0   \n",
              "2         0.0               0.0                1.0     0.0     0.0   \n",
              "3         1.0               1.0                1.0     1.0     0.0   \n",
              "4         0.0               0.0                1.0     1.0     0.0   \n",
              "...       ...               ...                ...     ...     ...   \n",
              "70687     0.0               1.0                1.0     0.0     0.0   \n",
              "70688     0.0               1.0                1.0     1.0     0.0   \n",
              "70689     1.0               1.0                1.0     0.0     0.0   \n",
              "70690     1.0               1.0                1.0     0.0     0.0   \n",
              "70691     1.0               1.0                1.0     0.0     0.0   \n",
              "\n",
              "       HeartDiseaseorAttack  Physical_Activity  Fruits  Veggies  \\\n",
              "0                       0.0                1.0     0.0      1.0   \n",
              "1                       0.0                0.0     1.0      0.0   \n",
              "2                       0.0                1.0     1.0      1.0   \n",
              "3                       0.0                1.0     1.0      1.0   \n",
              "4                       0.0                1.0     1.0      1.0   \n",
              "...                     ...                ...     ...      ...   \n",
              "70687                   0.0                0.0     0.0      1.0   \n",
              "70688                   1.0                0.0     1.0      1.0   \n",
              "70689                   1.0                0.0     1.0      0.0   \n",
              "70690                   0.0                0.0     0.0      0.0   \n",
              "70691                   1.0                1.0     1.0      0.0   \n",
              "\n",
              "       Heavy_Alcohol_Consumption  ...  Education_Cat5  Education_Cat6  \\\n",
              "0                            0.0  ...               0               1   \n",
              "1                            0.0  ...               0               1   \n",
              "2                            0.0  ...               0               1   \n",
              "3                            0.0  ...               0               1   \n",
              "4                            0.0  ...               1               0   \n",
              "...                          ...  ...             ...             ...   \n",
              "70687                        0.0  ...               0               0   \n",
              "70688                        0.0  ...               0               0   \n",
              "70689                        0.0  ...               0               1   \n",
              "70690                        0.0  ...               0               0   \n",
              "70691                        0.0  ...               0               1   \n",
              "\n",
              "       Income_Cat1  Income_Cat2  Income_Cat3  Income_Cat4  Income_Cat5  \\\n",
              "0                0            0            0            0            0   \n",
              "1                0            0            0            0            0   \n",
              "2                0            0            0            0            0   \n",
              "3                0            0            0            0            0   \n",
              "4                0            0            0            0            0   \n",
              "...            ...          ...          ...          ...          ...   \n",
              "70687            1            0            0            0            0   \n",
              "70688            0            0            0            0            0   \n",
              "70689            0            0            0            1            0   \n",
              "70690            0            0            0            1            0   \n",
              "70691            0            1            0            0            0   \n",
              "\n",
              "       Income_Cat6  Income_Cat7  Income_Cat8  \n",
              "0                0            0            1  \n",
              "1                0            0            1  \n",
              "2                0            0            1  \n",
              "3                0            0            1  \n",
              "4                0            0            1  \n",
              "...            ...          ...          ...  \n",
              "70687            0            0            0  \n",
              "70688            1            0            0  \n",
              "70689            0            0            0  \n",
              "70690            0            0            0  \n",
              "70691            0            0            0  \n",
              "\n",
              "[70691 rows x 41 columns]"
            ],
            "text/html": [
              "\n",
              "  <div id=\"df-2d8781e9-50de-4dcb-9c36-6f90442e5b8a\">\n",
              "    <div class=\"colab-df-container\">\n",
              "      <div>\n",
              "<style scoped>\n",
              "    .dataframe tbody tr th:only-of-type {\n",
              "        vertical-align: middle;\n",
              "    }\n",
              "\n",
              "    .dataframe tbody tr th {\n",
              "        vertical-align: top;\n",
              "    }\n",
              "\n",
              "    .dataframe thead th {\n",
              "        text-align: right;\n",
              "    }\n",
              "</style>\n",
              "<table border=\"1\" class=\"dataframe\">\n",
              "  <thead>\n",
              "    <tr style=\"text-align: right;\">\n",
              "      <th></th>\n",
              "      <th>HighBP</th>\n",
              "      <th>High_Cholesterol</th>\n",
              "      <th>Cholesterol_Check</th>\n",
              "      <th>Smoker</th>\n",
              "      <th>Stroke</th>\n",
              "      <th>HeartDiseaseorAttack</th>\n",
              "      <th>Physical_Activity</th>\n",
              "      <th>Fruits</th>\n",
              "      <th>Veggies</th>\n",
              "      <th>Heavy_Alcohol_Consumption</th>\n",
              "      <th>...</th>\n",
              "      <th>Education_Cat5</th>\n",
              "      <th>Education_Cat6</th>\n",
              "      <th>Income_Cat1</th>\n",
              "      <th>Income_Cat2</th>\n",
              "      <th>Income_Cat3</th>\n",
              "      <th>Income_Cat4</th>\n",
              "      <th>Income_Cat5</th>\n",
              "      <th>Income_Cat6</th>\n",
              "      <th>Income_Cat7</th>\n",
              "      <th>Income_Cat8</th>\n",
              "    </tr>\n",
              "  </thead>\n",
              "  <tbody>\n",
              "    <tr>\n",
              "      <th>0</th>\n",
              "      <td>1.0</td>\n",
              "      <td>0.0</td>\n",
              "      <td>1.0</td>\n",
              "      <td>0.0</td>\n",
              "      <td>0.0</td>\n",
              "      <td>0.0</td>\n",
              "      <td>1.0</td>\n",
              "      <td>0.0</td>\n",
              "      <td>1.0</td>\n",
              "      <td>0.0</td>\n",
              "      <td>...</td>\n",
              "      <td>0</td>\n",
              "      <td>1</td>\n",
              "      <td>0</td>\n",
              "      <td>0</td>\n",
              "      <td>0</td>\n",
              "      <td>0</td>\n",
              "      <td>0</td>\n",
              "      <td>0</td>\n",
              "      <td>0</td>\n",
              "      <td>1</td>\n",
              "    </tr>\n",
              "    <tr>\n",
              "      <th>1</th>\n",
              "      <td>1.0</td>\n",
              "      <td>1.0</td>\n",
              "      <td>1.0</td>\n",
              "      <td>1.0</td>\n",
              "      <td>1.0</td>\n",
              "      <td>0.0</td>\n",
              "      <td>0.0</td>\n",
              "      <td>1.0</td>\n",
              "      <td>0.0</td>\n",
              "      <td>0.0</td>\n",
              "      <td>...</td>\n",
              "      <td>0</td>\n",
              "      <td>1</td>\n",
              "      <td>0</td>\n",
              "      <td>0</td>\n",
              "      <td>0</td>\n",
              "      <td>0</td>\n",
              "      <td>0</td>\n",
              "      <td>0</td>\n",
              "      <td>0</td>\n",
              "      <td>1</td>\n",
              "    </tr>\n",
              "    <tr>\n",
              "      <th>2</th>\n",
              "      <td>0.0</td>\n",
              "      <td>0.0</td>\n",
              "      <td>1.0</td>\n",
              "      <td>0.0</td>\n",
              "      <td>0.0</td>\n",
              "      <td>0.0</td>\n",
              "      <td>1.0</td>\n",
              "      <td>1.0</td>\n",
              "      <td>1.0</td>\n",
              "      <td>0.0</td>\n",
              "      <td>...</td>\n",
              "      <td>0</td>\n",
              "      <td>1</td>\n",
              "      <td>0</td>\n",
              "      <td>0</td>\n",
              "      <td>0</td>\n",
              "      <td>0</td>\n",
              "      <td>0</td>\n",
              "      <td>0</td>\n",
              "      <td>0</td>\n",
              "      <td>1</td>\n",
              "    </tr>\n",
              "    <tr>\n",
              "      <th>3</th>\n",
              "      <td>1.0</td>\n",
              "      <td>1.0</td>\n",
              "      <td>1.0</td>\n",
              "      <td>1.0</td>\n",
              "      <td>0.0</td>\n",
              "      <td>0.0</td>\n",
              "      <td>1.0</td>\n",
              "      <td>1.0</td>\n",
              "      <td>1.0</td>\n",
              "      <td>0.0</td>\n",
              "      <td>...</td>\n",
              "      <td>0</td>\n",
              "      <td>1</td>\n",
              "      <td>0</td>\n",
              "      <td>0</td>\n",
              "      <td>0</td>\n",
              "      <td>0</td>\n",
              "      <td>0</td>\n",
              "      <td>0</td>\n",
              "      <td>0</td>\n",
              "      <td>1</td>\n",
              "    </tr>\n",
              "    <tr>\n",
              "      <th>4</th>\n",
              "      <td>0.0</td>\n",
              "      <td>0.0</td>\n",
              "      <td>1.0</td>\n",
              "      <td>1.0</td>\n",
              "      <td>0.0</td>\n",
              "      <td>0.0</td>\n",
              "      <td>1.0</td>\n",
              "      <td>1.0</td>\n",
              "      <td>1.0</td>\n",
              "      <td>0.0</td>\n",
              "      <td>...</td>\n",
              "      <td>1</td>\n",
              "      <td>0</td>\n",
              "      <td>0</td>\n",
              "      <td>0</td>\n",
              "      <td>0</td>\n",
              "      <td>0</td>\n",
              "      <td>0</td>\n",
              "      <td>0</td>\n",
              "      <td>0</td>\n",
              "      <td>1</td>\n",
              "    </tr>\n",
              "    <tr>\n",
              "      <th>...</th>\n",
              "      <td>...</td>\n",
              "      <td>...</td>\n",
              "      <td>...</td>\n",
              "      <td>...</td>\n",
              "      <td>...</td>\n",
              "      <td>...</td>\n",
              "      <td>...</td>\n",
              "      <td>...</td>\n",
              "      <td>...</td>\n",
              "      <td>...</td>\n",
              "      <td>...</td>\n",
              "      <td>...</td>\n",
              "      <td>...</td>\n",
              "      <td>...</td>\n",
              "      <td>...</td>\n",
              "      <td>...</td>\n",
              "      <td>...</td>\n",
              "      <td>...</td>\n",
              "      <td>...</td>\n",
              "      <td>...</td>\n",
              "      <td>...</td>\n",
              "    </tr>\n",
              "    <tr>\n",
              "      <th>70687</th>\n",
              "      <td>0.0</td>\n",
              "      <td>1.0</td>\n",
              "      <td>1.0</td>\n",
              "      <td>0.0</td>\n",
              "      <td>0.0</td>\n",
              "      <td>0.0</td>\n",
              "      <td>0.0</td>\n",
              "      <td>0.0</td>\n",
              "      <td>1.0</td>\n",
              "      <td>0.0</td>\n",
              "      <td>...</td>\n",
              "      <td>0</td>\n",
              "      <td>0</td>\n",
              "      <td>1</td>\n",
              "      <td>0</td>\n",
              "      <td>0</td>\n",
              "      <td>0</td>\n",
              "      <td>0</td>\n",
              "      <td>0</td>\n",
              "      <td>0</td>\n",
              "      <td>0</td>\n",
              "    </tr>\n",
              "    <tr>\n",
              "      <th>70688</th>\n",
              "      <td>0.0</td>\n",
              "      <td>1.0</td>\n",
              "      <td>1.0</td>\n",
              "      <td>1.0</td>\n",
              "      <td>0.0</td>\n",
              "      <td>1.0</td>\n",
              "      <td>0.0</td>\n",
              "      <td>1.0</td>\n",
              "      <td>1.0</td>\n",
              "      <td>0.0</td>\n",
              "      <td>...</td>\n",
              "      <td>0</td>\n",
              "      <td>0</td>\n",
              "      <td>0</td>\n",
              "      <td>0</td>\n",
              "      <td>0</td>\n",
              "      <td>0</td>\n",
              "      <td>0</td>\n",
              "      <td>1</td>\n",
              "      <td>0</td>\n",
              "      <td>0</td>\n",
              "    </tr>\n",
              "    <tr>\n",
              "      <th>70689</th>\n",
              "      <td>1.0</td>\n",
              "      <td>1.0</td>\n",
              "      <td>1.0</td>\n",
              "      <td>0.0</td>\n",
              "      <td>0.0</td>\n",
              "      <td>1.0</td>\n",
              "      <td>0.0</td>\n",
              "      <td>1.0</td>\n",
              "      <td>0.0</td>\n",
              "      <td>0.0</td>\n",
              "      <td>...</td>\n",
              "      <td>0</td>\n",
              "      <td>1</td>\n",
              "      <td>0</td>\n",
              "      <td>0</td>\n",
              "      <td>0</td>\n",
              "      <td>1</td>\n",
              "      <td>0</td>\n",
              "      <td>0</td>\n",
              "      <td>0</td>\n",
              "      <td>0</td>\n",
              "    </tr>\n",
              "    <tr>\n",
              "      <th>70690</th>\n",
              "      <td>1.0</td>\n",
              "      <td>1.0</td>\n",
              "      <td>1.0</td>\n",
              "      <td>0.0</td>\n",
              "      <td>0.0</td>\n",
              "      <td>0.0</td>\n",
              "      <td>0.0</td>\n",
              "      <td>0.0</td>\n",
              "      <td>0.0</td>\n",
              "      <td>0.0</td>\n",
              "      <td>...</td>\n",
              "      <td>0</td>\n",
              "      <td>0</td>\n",
              "      <td>0</td>\n",
              "      <td>0</td>\n",
              "      <td>0</td>\n",
              "      <td>1</td>\n",
              "      <td>0</td>\n",
              "      <td>0</td>\n",
              "      <td>0</td>\n",
              "      <td>0</td>\n",
              "    </tr>\n",
              "    <tr>\n",
              "      <th>70691</th>\n",
              "      <td>1.0</td>\n",
              "      <td>1.0</td>\n",
              "      <td>1.0</td>\n",
              "      <td>0.0</td>\n",
              "      <td>0.0</td>\n",
              "      <td>1.0</td>\n",
              "      <td>1.0</td>\n",
              "      <td>1.0</td>\n",
              "      <td>0.0</td>\n",
              "      <td>0.0</td>\n",
              "      <td>...</td>\n",
              "      <td>0</td>\n",
              "      <td>1</td>\n",
              "      <td>0</td>\n",
              "      <td>1</td>\n",
              "      <td>0</td>\n",
              "      <td>0</td>\n",
              "      <td>0</td>\n",
              "      <td>0</td>\n",
              "      <td>0</td>\n",
              "      <td>0</td>\n",
              "    </tr>\n",
              "  </tbody>\n",
              "</table>\n",
              "<p>70691 rows × 41 columns</p>\n",
              "</div>\n",
              "      <button class=\"colab-df-convert\" onclick=\"convertToInteractive('df-2d8781e9-50de-4dcb-9c36-6f90442e5b8a')\"\n",
              "              title=\"Convert this dataframe to an interactive table.\"\n",
              "              style=\"display:none;\">\n",
              "        \n",
              "  <svg xmlns=\"http://www.w3.org/2000/svg\" height=\"24px\"viewBox=\"0 0 24 24\"\n",
              "       width=\"24px\">\n",
              "    <path d=\"M0 0h24v24H0V0z\" fill=\"none\"/>\n",
              "    <path d=\"M18.56 5.44l.94 2.06.94-2.06 2.06-.94-2.06-.94-.94-2.06-.94 2.06-2.06.94zm-11 1L8.5 8.5l.94-2.06 2.06-.94-2.06-.94L8.5 2.5l-.94 2.06-2.06.94zm10 10l.94 2.06.94-2.06 2.06-.94-2.06-.94-.94-2.06-.94 2.06-2.06.94z\"/><path d=\"M17.41 7.96l-1.37-1.37c-.4-.4-.92-.59-1.43-.59-.52 0-1.04.2-1.43.59L10.3 9.45l-7.72 7.72c-.78.78-.78 2.05 0 2.83L4 21.41c.39.39.9.59 1.41.59.51 0 1.02-.2 1.41-.59l7.78-7.78 2.81-2.81c.8-.78.8-2.07 0-2.86zM5.41 20L4 18.59l7.72-7.72 1.47 1.35L5.41 20z\"/>\n",
              "  </svg>\n",
              "      </button>\n",
              "      \n",
              "  <style>\n",
              "    .colab-df-container {\n",
              "      display:flex;\n",
              "      flex-wrap:wrap;\n",
              "      gap: 12px;\n",
              "    }\n",
              "\n",
              "    .colab-df-convert {\n",
              "      background-color: #E8F0FE;\n",
              "      border: none;\n",
              "      border-radius: 50%;\n",
              "      cursor: pointer;\n",
              "      display: none;\n",
              "      fill: #1967D2;\n",
              "      height: 32px;\n",
              "      padding: 0 0 0 0;\n",
              "      width: 32px;\n",
              "    }\n",
              "\n",
              "    .colab-df-convert:hover {\n",
              "      background-color: #E2EBFA;\n",
              "      box-shadow: 0px 1px 2px rgba(60, 64, 67, 0.3), 0px 1px 3px 1px rgba(60, 64, 67, 0.15);\n",
              "      fill: #174EA6;\n",
              "    }\n",
              "\n",
              "    [theme=dark] .colab-df-convert {\n",
              "      background-color: #3B4455;\n",
              "      fill: #D2E3FC;\n",
              "    }\n",
              "\n",
              "    [theme=dark] .colab-df-convert:hover {\n",
              "      background-color: #434B5C;\n",
              "      box-shadow: 0px 1px 3px 1px rgba(0, 0, 0, 0.15);\n",
              "      filter: drop-shadow(0px 1px 2px rgba(0, 0, 0, 0.3));\n",
              "      fill: #FFFFFF;\n",
              "    }\n",
              "  </style>\n",
              "\n",
              "      <script>\n",
              "        const buttonEl =\n",
              "          document.querySelector('#df-2d8781e9-50de-4dcb-9c36-6f90442e5b8a button.colab-df-convert');\n",
              "        buttonEl.style.display =\n",
              "          google.colab.kernel.accessAllowed ? 'block' : 'none';\n",
              "\n",
              "        async function convertToInteractive(key) {\n",
              "          const element = document.querySelector('#df-2d8781e9-50de-4dcb-9c36-6f90442e5b8a');\n",
              "          const dataTable =\n",
              "            await google.colab.kernel.invokeFunction('convertToInteractive',\n",
              "                                                     [key], {});\n",
              "          if (!dataTable) return;\n",
              "\n",
              "          const docLinkHtml = 'Like what you see? Visit the ' +\n",
              "            '<a target=\"_blank\" href=https://colab.research.google.com/notebooks/data_table.ipynb>data table notebook</a>'\n",
              "            + ' to learn more about interactive tables.';\n",
              "          element.innerHTML = '';\n",
              "          dataTable['output_type'] = 'display_data';\n",
              "          await google.colab.output.renderOutput(dataTable, element);\n",
              "          const docLink = document.createElement('div');\n",
              "          docLink.innerHTML = docLinkHtml;\n",
              "          element.appendChild(docLink);\n",
              "        }\n",
              "      </script>\n",
              "    </div>\n",
              "  </div>\n",
              "  "
            ]
          },
          "metadata": {},
          "execution_count": 48
        }
      ]
    },
    {
      "cell_type": "markdown",
      "source": [
        "# > XGBoost Classifier Model"
      ],
      "metadata": {
        "id": "mJpRFAVx467B"
      }
    },
    {
      "cell_type": "markdown",
      "source": [
        "## Extract train and test datasets"
      ],
      "metadata": {
        "id": "RniigaCb5Wkg"
      }
    },
    {
      "cell_type": "code",
      "source": [
        "X_train, X_test, Y_train, Y_test = train_test_split(dataset, labels, test_size=0.2, random_state=1)\n",
        "print(f\"Train size : {X_train.shape}\")\n",
        "print(f\"Test size : {X_test.shape}\")"
      ],
      "metadata": {
        "colab": {
          "base_uri": "https://localhost:8080/"
        },
        "id": "YNu2RZY05eoy",
        "outputId": "bf7f8400-75de-4cf1-895a-3696d05c61d6"
      },
      "execution_count": 49,
      "outputs": [
        {
          "output_type": "stream",
          "name": "stdout",
          "text": [
            "Train size : (56552, 41)\n",
            "Test size : (14139, 41)\n"
          ]
        }
      ]
    },
    {
      "cell_type": "markdown",
      "source": [
        "## Build the XGBoost model"
      ],
      "metadata": {
        "id": "GBEtmd9F6YKJ"
      }
    },
    {
      "cell_type": "code",
      "source": [
        "XGB_model = XGBClassifier(\n",
        "    learning_rate=0.1,\n",
        "    max_depth=4,\n",
        "    n_estimators=200,\n",
        "    subsample=0.5,\n",
        "    colsample_bytree=1,\n",
        "    random_seed=123,\n",
        "    random_state=123,\n",
        "    eval_metric='auc',\n",
        "    verbosity=1,\n",
        "    early_stopping_rounds=10\n",
        ")\n",
        "XGB_model.get_params()"
      ],
      "metadata": {
        "colab": {
          "base_uri": "https://localhost:8080/"
        },
        "id": "FTDGiild6VV1",
        "outputId": "e59c8260-51cf-44d5-dfa2-110cb5272164"
      },
      "execution_count": 50,
      "outputs": [
        {
          "output_type": "execute_result",
          "data": {
            "text/plain": [
              "{'base_score': 0.5,\n",
              " 'booster': 'gbtree',\n",
              " 'colsample_bylevel': 1,\n",
              " 'colsample_bynode': 1,\n",
              " 'colsample_bytree': 1,\n",
              " 'early_stopping_rounds': 10,\n",
              " 'eval_metric': 'auc',\n",
              " 'gamma': 0,\n",
              " 'learning_rate': 0.1,\n",
              " 'max_delta_step': 0,\n",
              " 'max_depth': 4,\n",
              " 'min_child_weight': 1,\n",
              " 'missing': None,\n",
              " 'n_estimators': 200,\n",
              " 'n_jobs': 1,\n",
              " 'nthread': None,\n",
              " 'objective': 'binary:logistic',\n",
              " 'random_seed': 123,\n",
              " 'random_state': 123,\n",
              " 'reg_alpha': 0,\n",
              " 'reg_lambda': 1,\n",
              " 'scale_pos_weight': 1,\n",
              " 'seed': None,\n",
              " 'silent': None,\n",
              " 'subsample': 0.5,\n",
              " 'verbosity': 1}"
            ]
          },
          "metadata": {},
          "execution_count": 50
        }
      ]
    },
    {
      "cell_type": "markdown",
      "source": [
        "<div>\n",
        "\n",
        "  #### Train the XGBoost model\n",
        "\n",
        "</div>"
      ],
      "metadata": {
        "id": "ViU7Ab2L7BaR"
      }
    },
    {
      "cell_type": "code",
      "source": [
        "XGB_model.fit(X_train, Y_train)"
      ],
      "metadata": {
        "colab": {
          "base_uri": "https://localhost:8080/"
        },
        "id": "ovQJsS2I7B6P",
        "outputId": "0da98d33-2267-498c-c62a-1549d3ae87de"
      },
      "execution_count": 51,
      "outputs": [
        {
          "output_type": "execute_result",
          "data": {
            "text/plain": [
              "XGBClassifier(early_stopping_rounds=10, eval_metric='auc', max_depth=4,\n",
              "              n_estimators=200, random_seed=123, random_state=123,\n",
              "              subsample=0.5)"
            ]
          },
          "metadata": {},
          "execution_count": 51
        }
      ]
    },
    {
      "cell_type": "markdown",
      "source": [
        "<div>\n",
        "\n",
        "  #### Prediction on train and test set with XGBoost model\n",
        "\n",
        "</div>"
      ],
      "metadata": {
        "id": "Htjd56Rd8-cR"
      }
    },
    {
      "cell_type": "code",
      "source": [
        "Y_train_predicted = XGB_model.predict(X_train)\n",
        "accuracy_train = accuracy_score(Y_train_predicted, Y_train)\n",
        "print(f'Accuracy in train set: {accuracy_train}')\n",
        "\n",
        "Y_test_predicted = XGB_model.predict(X_test)\n",
        "accuracy_test = accuracy_score(Y_test_predicted, Y_test)\n",
        "print(f'Accuracy in test set: {accuracy_test}')"
      ],
      "metadata": {
        "colab": {
          "base_uri": "https://localhost:8080/"
        },
        "id": "gRzEPXmo9JXs",
        "outputId": "75e9db87-b3d8-4944-bab3-4b4caf54c75f"
      },
      "execution_count": 52,
      "outputs": [
        {
          "output_type": "stream",
          "name": "stdout",
          "text": [
            "Accuracy in train set: 0.7590889800537558\n",
            "Accuracy in test set: 0.7521041092014994\n"
          ]
        }
      ]
    },
    {
      "cell_type": "markdown",
      "source": [
        "<div>\n",
        "\n",
        "  #### Confusion matrix:\n",
        "\n",
        "</div>"
      ],
      "metadata": {
        "id": "wFcJZijGFll1"
      }
    },
    {
      "cell_type": "code",
      "source": [
        "def plot_confusion_matrix(Y_test, Y_test_predicted):\n",
        "  cf_matrix = confusion_matrix(Y_test, Y_test_predicted)\n",
        "  plt.figure(figsize=(10, 10))\n",
        "  plt.imshow(cf_matrix)\n",
        "  plt.title(\"Confusion Matrix\")\n",
        "  plt.xlabel(\"Predicted Values\")\n",
        "  plt.ylabel(\"Actual Values\")\n",
        "  class_names = [\"Positive\", \"Negative\"]\n",
        "  ticks = np.arange(len(class_names))\n",
        "  plt.xticks(ticks, class_names)\n",
        "  plt.yticks(ticks, class_names)\n",
        "  TP, FN = cf_matrix[1][1], cf_matrix[1][0]\n",
        "  FP, TN = cf_matrix[0][1], cf_matrix[0][0]\n",
        "  tags = [[{\"TN\": TN}, {\"FP\": FP}], [{\"FN\": FN}, {\"TP\": TP}]]\n",
        "  print(tags)\n",
        "\n",
        "  for row_index in range(2):\n",
        "    for col_index in range(2):\n",
        "      plt.text(col_index, row_index, tags[row_index][col_index])"
      ],
      "metadata": {
        "id": "JBW7XYVLFlvB"
      },
      "execution_count": 56,
      "outputs": []
    },
    {
      "cell_type": "code",
      "source": [
        "plot_confusion_matrix(Y_test, Y_test_predicted)"
      ],
      "metadata": {
        "colab": {
          "base_uri": "https://localhost:8080/",
          "height": 639
        },
        "id": "vstB6XkkIygk",
        "outputId": "e46c3ac6-a517-464a-a5d8-6acb5612246b"
      },
      "execution_count": 57,
      "outputs": [
        {
          "output_type": "stream",
          "name": "stdout",
          "text": [
            "[[{'TN': 5059}, {'FP': 2081}], [{'FN': 1424}, {'TP': 5575}]]\n"
          ]
        },
        {
          "output_type": "display_data",
          "data": {
            "text/plain": [
              "<Figure size 720x720 with 1 Axes>"
            ],
            "image/png": "[encoded data removed]"
          },
          "metadata": {
            "needs_background": "light"
          }
        }
      ]
    },
    {
      "cell_type": "markdown",
      "source": [
        "<div>\n",
        "\n",
        " #### Precision-Recall Curve\n",
        "\n",
        "</div>"
      ],
      "metadata": {
        "id": "0B5ZdtWH997U"
      }
    },
    {
      "cell_type": "code",
      "source": [
        "def get_precision_recall(Y_test, Y_test_predicted):\n",
        "  precision, recall, _ = precision_recall_curve(Y_test, Y_test_predicted)\n",
        "  return precision, recall"
      ],
      "metadata": {
        "id": "zm97NKXB9-Fw"
      },
      "execution_count": 58,
      "outputs": []
    },
    {
      "cell_type": "code",
      "source": [
        "precision, recall = get_precision_recall(Y_test, Y_test_predicted)\n",
        "print(f'precision: {precision}, recall: {recall}')"
      ],
      "metadata": {
        "colab": {
          "base_uri": "https://localhost:8080/"
        },
        "id": "zzkc7uKwEG_u",
        "outputId": "5ef41269-fd6e-4726-adb8-b726d8079925"
      },
      "execution_count": 59,
      "outputs": [
        {
          "output_type": "stream",
          "name": "stdout",
          "text": [
            "precision: [0.49501379 0.72818704 1.        ], recall: [1.         0.79654236 0.        ]\n"
          ]
        }
      ]
    },
    {
      "cell_type": "code",
      "source": [
        "def plot_precision_recall_curve(precision, recall):\n",
        "  auc_XGBoost = auc(recall, precision)\n",
        "  plt.plot(recall, precision, label=f'AUC XGBoost = {auc_XGBoost}')\n",
        "  plt.title('Precision-Recall Curve')\n",
        "  plt.xlabel(\"Recall\")\n",
        "  plt.ylabel(\"Precision\")\n",
        "  plt.legend()  "
      ],
      "metadata": {
        "id": "kY5ZmXqhYH1c"
      },
      "execution_count": 60,
      "outputs": []
    },
    {
      "cell_type": "code",
      "source": [
        "plot_precision_recall_curve(precision, recall)"
      ],
      "metadata": {
        "colab": {
          "base_uri": "https://localhost:8080/",
          "height": 295
        },
        "id": "anIGxoZgEbiA",
        "outputId": "c829bebf-bf32-49ef-8c0f-1a914c181d92"
      },
      "execution_count": 61,
      "outputs": [
        {
          "output_type": "display_data",
          "data": {
            "text/plain": [
              "<Figure size 432x288 with 1 Axes>"
            ],
            "image/png": "[encoded data removed]"
          },
          "metadata": {
            "needs_background": "light"
          }
        }
      ]
    },
    {
      "cell_type": "markdown",
      "source": [
        "# > Adjusting Hyperparameters"
      ],
      "metadata": {
        "id": "jB8xHNTaMWsR"
      }
    },
    {
      "cell_type": "code",
      "source": [
        "XGBClassifier().get_params()"
      ],
      "metadata": {
        "colab": {
          "base_uri": "https://localhost:8080/"
        },
        "id": "E-i7dwiyMp7x",
        "outputId": "75686be5-28e8-4413-dc38-57b3699c45a5"
      },
      "execution_count": 62,
      "outputs": [
        {
          "output_type": "execute_result",
          "data": {
            "text/plain": [
              "{'base_score': 0.5,\n",
              " 'booster': 'gbtree',\n",
              " 'colsample_bylevel': 1,\n",
              " 'colsample_bynode': 1,\n",
              " 'colsample_bytree': 1,\n",
              " 'gamma': 0,\n",
              " 'learning_rate': 0.1,\n",
              " 'max_delta_step': 0,\n",
              " 'max_depth': 3,\n",
              " 'min_child_weight': 1,\n",
              " 'missing': None,\n",
              " 'n_estimators': 100,\n",
              " 'n_jobs': 1,\n",
              " 'nthread': None,\n",
              " 'objective': 'binary:logistic',\n",
              " 'random_state': 0,\n",
              " 'reg_alpha': 0,\n",
              " 'reg_lambda': 1,\n",
              " 'scale_pos_weight': 1,\n",
              " 'seed': None,\n",
              " 'silent': None,\n",
              " 'subsample': 1,\n",
              " 'verbosity': 1}"
            ]
          },
          "metadata": {},
          "execution_count": 62
        }
      ]
    },
    {
      "cell_type": "code",
      "source": [
        "def my_roc_auc_score(model, X, Y):\n",
        "  return roc_auc_score(Y, model.predict_proba(X)[:, 1])"
      ],
      "metadata": {
        "id": "AfKlu5srOU3C"
      },
      "execution_count": 63,
      "outputs": []
    },
    {
      "cell_type": "markdown",
      "source": [
        "<div>\n",
        "\n",
        "  #### GridSearchCV models\n",
        "\n",
        "</div>"
      ],
      "metadata": {
        "id": "M-_brHp1Nimo"
      }
    },
    {
      "cell_type": "code",
      "source": [
        "parameters = {\n",
        "    'learning_rate': [0.02, 0.05, 0.1, 0.3],\n",
        "    'max_depth': [2, 3, 4],\n",
        "    'n_estimators': [100, 200, 300],\n",
        "    'colsample_bytree': [0.8, 1]\n",
        "}"
      ],
      "metadata": {
        "id": "fd0PdcoIQ9-Y"
      },
      "execution_count": 64,
      "outputs": []
    },
    {
      "cell_type": "code",
      "source": [
        "model = XGBClassifier(\n",
        "    objective = 'binary:logistic',\n",
        "    seed = 123 ,\n",
        "    subsample= 0.5,\n",
        "    eval_metric= 'auc'\n",
        "    ) \n",
        "\n",
        "clf = GridSearchCV(\n",
        "    model,\n",
        "    parameters,\n",
        "    cv=3,\n",
        "    scoring=my_roc_auc_score\n",
        ")"
      ],
      "metadata": {
        "id": "QswkSFCEOqQ4"
      },
      "execution_count": 65,
      "outputs": []
    },
    {
      "cell_type": "code",
      "source": [
        "clf.fit(X_train, Y_train)"
      ],
      "metadata": {
        "colab": {
          "base_uri": "https://localhost:8080/"
        },
        "id": "zJbS8ZImQTiB",
        "outputId": "e57e4687-1a24-4436-a078-d7afe7487dae"
      },
      "execution_count": 66,
      "outputs": [
        {
          "output_type": "execute_result",
          "data": {
            "text/plain": [
              "GridSearchCV(cv=3,\n",
              "             estimator=XGBClassifier(eval_metric='auc', seed=123,\n",
              "                                     subsample=0.5),\n",
              "             param_grid={'colsample_bytree': [0.8, 1],\n",
              "                         'learning_rate': [0.02, 0.05, 0.1, 0.3],\n",
              "                         'max_depth': [2, 3, 4],\n",
              "                         'n_estimators': [100, 200, 300]},\n",
              "             scoring=<function my_roc_auc_score at 0x7fd39339e5f0>)"
            ]
          },
          "metadata": {},
          "execution_count": 66
        }
      ]
    },
    {
      "cell_type": "markdown",
      "source": [
        "<div>\n",
        "\n",
        "  #### Save the result into drive:\n",
        "\n",
        "</div>"
      ],
      "metadata": {
        "id": "cCJ5LkZEpSc-"
      }
    },
    {
      "cell_type": "code",
      "source": [
        "base_path = \"/content/gdrive/MyDrive/Data Mining/Final Project/\"\n",
        "base_path = \" \"\n",
        "file_to_store = open(base_path + \"clf.pickle\", \"wb\")\n",
        "pickle.dump(clf, file_to_store)\n",
        "file_to_store.close()"
      ],
      "metadata": {
        "id": "8kL14VaeQdS8"
      },
      "execution_count": 93,
      "outputs": []
    },
    {
      "cell_type": "code",
      "source": [
        "from google.colab import drive\n",
        "# drive.mount('/content/drive')\n",
        "drive.flush_and_unmount()"
      ],
      "metadata": {
        "id": "hZlUcSgObcJ2"
      },
      "execution_count": 86,
      "outputs": []
    },
    {
      "cell_type": "markdown",
      "source": [
        "<div>\n",
        "\n",
        " #### Load the data\n",
        "</div>"
      ],
      "metadata": {
        "id": "7nQW6j5FpaWa"
      }
    },
    {
      "cell_type": "code",
      "source": [
        "# base_path = \"/content/gdrive/MyDrive/Data Mining/Final Project/\"\n",
        "# file_to_read = open(base_path + \"clf.pickle\", \"rb\")\n",
        "# file_to_read = open(\"clf.pickle\", \"rb\")\n",
        "# clf = pickle.load(file_to_read)\n",
        "# file_to_read.close()"
      ],
      "metadata": {
        "id": "RNLJxczspQbQ"
      },
      "execution_count": 103,
      "outputs": []
    },
    {
      "cell_type": "markdown",
      "source": [
        "<div>\n",
        "\n",
        "  #### Best model parameters\n",
        "\n",
        "</div>"
      ],
      "metadata": {
        "id": "bUOvdi6qVt8E"
      }
    },
    {
      "cell_type": "code",
      "source": [
        "best_parameters = clf.best_params_\n",
        "best_score = clf.best_score_\n",
        "print(f'Best model score: {best_score}')\n",
        "print(f'Best model params: {best_parameters}')"
      ],
      "metadata": {
        "colab": {
          "base_uri": "https://localhost:8080/"
        },
        "id": "UQb0fQQYVmkV",
        "outputId": "3963bf5e-93e6-4368-a6e3-ce8db73e8fca"
      },
      "execution_count": 102,
      "outputs": [
        {
          "output_type": "stream",
          "name": "stdout",
          "text": [
            "Best model score: 0.8271463827642974\n",
            "Best model params: {'colsample_bytree': 0.8, 'learning_rate': 0.05, 'max_depth': 4, 'n_estimators': 200}\n"
          ]
        }
      ]
    },
    {
      "cell_type": "markdown",
      "source": [
        "<div>\n",
        "\n",
        "  #### Best model prediction\n",
        "\n",
        "</div>"
      ],
      "metadata": {
        "id": "WDYJtUxhWwhZ"
      }
    },
    {
      "cell_type": "code",
      "source": [
        "best_model_Y_test_predicted = clf.predict(X_test)\n",
        "accuracy = accuracy_score(Y_test, best_model_Y_test_predicted)\n",
        "print(f'test set accuracy: {accuracy}')"
      ],
      "metadata": {
        "colab": {
          "base_uri": "https://localhost:8080/"
        },
        "id": "nuVVMNQaW0rd",
        "outputId": "45aeeb5c-f65a-468f-8384-442a9e89a2cc"
      },
      "execution_count": 104,
      "outputs": [
        {
          "output_type": "stream",
          "name": "stdout",
          "text": [
            "test set accuracy: 0.7551453426692128\n"
          ]
        }
      ]
    },
    {
      "cell_type": "markdown",
      "source": [
        "<div>\n",
        "\n",
        "  #### Best model Precision-Recall curve\n",
        "\n",
        "</div>"
      ],
      "metadata": {
        "id": "Qq7FmG-rXboK"
      }
    },
    {
      "cell_type": "code",
      "source": [
        "best_model_precision, best_model_recall = get_precision_recall(Y_test, best_model_Y_test_predicted)\n",
        "print(f'precision: {best_model_precision}, recall: {best_model_recall}')"
      ],
      "metadata": {
        "colab": {
          "base_uri": "https://localhost:8080/"
        },
        "id": "Mi1_CWCuXi0O",
        "outputId": "55362cc8-9dbf-4938-9aa5-4a13d62b57ef"
      },
      "execution_count": 105,
      "outputs": [
        {
          "output_type": "stream",
          "name": "stdout",
          "text": [
            "precision: [0.49501379 0.73242213 1.        ], recall: [1.         0.79625661 0.        ]\n"
          ]
        }
      ]
    },
    {
      "cell_type": "code",
      "source": [
        "plot_precision_recall_curve(best_model_precision, best_model_recall)"
      ],
      "metadata": {
        "colab": {
          "base_uri": "https://localhost:8080/",
          "height": 295
        },
        "id": "QUdPzw9cYD1_",
        "outputId": "6f4ab3a3-63f8-4573-e96e-ed46ebeab321"
      },
      "execution_count": 106,
      "outputs": [
        {
          "output_type": "display_data",
          "data": {
            "text/plain": [
              "<Figure size 432x288 with 1 Axes>"
            ],
            "image/png": "[encoded data removed]"
          },
          "metadata": {
            "needs_background": "light"
          }
        }
      ]
    },
    {
      "cell_type": "markdown",
      "source": [
        "<div>\n",
        "\n",
        "  #### Best model Confusion matrix\n",
        "\n",
        "</div>"
      ],
      "metadata": {
        "id": "l7ZNEj_YZO5O"
      }
    },
    {
      "cell_type": "code",
      "source": [
        "plot_confusion_matrix(Y_test, best_model_Y_test_predicted)"
      ],
      "metadata": {
        "colab": {
          "base_uri": "https://localhost:8080/",
          "height": 639
        },
        "id": "ql1xwUQRZPHn",
        "outputId": "da2725bc-188b-46d6-80a5-500b87748e24"
      },
      "execution_count": 107,
      "outputs": [
        {
          "output_type": "stream",
          "name": "stdout",
          "text": [
            "[[{'TN': 5104}, {'FP': 2036}], [{'FN': 1426}, {'TP': 5573}]]\n"
          ]
        },
        {
          "output_type": "display_data",
          "data": {
            "text/plain": [
              "<Figure size 720x720 with 1 Axes>"
            ],
            "image/png": "[encoded data removed]"
          },
          "metadata": {
            "needs_background": "light"
          }
        }
      ]
    },
    {
      "cell_type": "markdown",
      "source": [
        "# > Visualization"
      ],
      "metadata": {
        "id": "yH6y__oUZqp2"
      }
    },
    {
      "cell_type": "code",
      "source": [
        "clf.cv_results_.keys()"
      ],
      "metadata": {
        "colab": {
          "base_uri": "https://localhost:8080/"
        },
        "id": "gSP8EUL-pFWb",
        "outputId": "bcf5a715-f210-4c03-b283-12fcdb59b489"
      },
      "execution_count": 108,
      "outputs": [
        {
          "output_type": "execute_result",
          "data": {
            "text/plain": [
              "dict_keys(['mean_fit_time', 'std_fit_time', 'mean_score_time', 'std_score_time', 'param_colsample_bytree', 'param_learning_rate', 'param_max_depth', 'param_n_estimators', 'params', 'split0_test_score', 'split1_test_score', 'split2_test_score', 'mean_test_score', 'std_test_score', 'rank_test_score'])"
            ]
          },
          "metadata": {},
          "execution_count": 108
        }
      ]
    },
    {
      "cell_type": "markdown",
      "source": [
        "<div>\n",
        "\n",
        "  #### 72 states: (4(learning_rate)* 3(max_depth) * 3(n_estimator)* 2(colsample_butree))\n",
        "\n",
        "</div>"
      ],
      "metadata": {
        "id": "4D7C-mDBawjD"
      }
    },
    {
      "cell_type": "code",
      "source": [
        "len(clf.cv_results_[\"params\"])"
      ],
      "metadata": {
        "colab": {
          "base_uri": "https://localhost:8080/"
        },
        "id": "8tV-JDOiqmO0",
        "outputId": "539d8480-eb59-4179-8c02-87809f39e288"
      },
      "execution_count": 109,
      "outputs": [
        {
          "output_type": "execute_result",
          "data": {
            "text/plain": [
              "72"
            ]
          },
          "metadata": {},
          "execution_count": 109
        }
      ]
    },
    {
      "cell_type": "code",
      "source": [
        "models_params = clf.cv_results_[\"params\"]\n",
        "models_mean_test_score = clf.cv_results_['mean_test_score']"
      ],
      "metadata": {
        "id": "z6WtmDS8hHSI"
      },
      "execution_count": 110,
      "outputs": []
    },
    {
      "cell_type": "markdown",
      "source": [
        "<div>\n",
        "\n",
        "  #### Relation of max_depth and learning_rate:\n",
        "\n",
        "</div>"
      ],
      "metadata": {
        "id": "6Z5ZYwL2bSAd"
      }
    },
    {
      "cell_type": "code",
      "source": [
        "learning_rate_max_depth_dict = {0.02: {2:0, 3:0, 4:0}, 0.05: {2:0, 3:0, 4:0}, 0.1: {2:0, 3:0, 4:0}, 0.3: {2:0, 3:0, 4:0}}\n",
        "fixed_params = {\"n_estimators\": 200, \"colsample_bytree\": 0.8}\n",
        "\n",
        "for index, params in enumerate(models_params):\n",
        "  if params[\"n_estimators\"] == fixed_params[\"n_estimators\"] and params[\"colsample_bytree\"] == fixed_params[\"colsample_bytree\"]:\n",
        "    learning_rate, max_depth = params[\"learning_rate\"], params[\"max_depth\"]\n",
        "    learning_rate_max_depth_dict[learning_rate][max_depth] = models_mean_test_score[index]\n"
      ],
      "metadata": {
        "id": "H2038_w6bY_G"
      },
      "execution_count": 111,
      "outputs": []
    },
    {
      "cell_type": "code",
      "source": [
        "learning_rate_max_depth_dict"
      ],
      "metadata": {
        "colab": {
          "base_uri": "https://localhost:8080/"
        },
        "id": "kaU05mSWm8ZI",
        "outputId": "443d8861-9920-4649-c52a-6aae00a1143b"
      },
      "execution_count": 112,
      "outputs": [
        {
          "output_type": "execute_result",
          "data": {
            "text/plain": [
              "{0.02: {2: 0.8191405273039464, 3: 0.8231473323047287, 4: 0.8249531640468358},\n",
              " 0.05: {2: 0.8248625235121888, 3: 0.8264988594689058, 4: 0.8271463827642974},\n",
              " 0.1: {2: 0.8261877854839117, 3: 0.826643357884887, 4: 0.8263090215137101},\n",
              " 0.3: {2: 0.8258341430727155, 3: 0.8229667336660693, 4: 0.8192607365869643}}"
            ]
          },
          "metadata": {},
          "execution_count": 112
        }
      ]
    },
    {
      "cell_type": "code",
      "source": [
        "for learning_rate, depth_score in learning_rate_max_depth_dict.items():\n",
        "  max_depth = list(learning_rate_max_depth_dict[learning_rate].keys())\n",
        "  scores = list(learning_rate_max_depth_dict[learning_rate].values())\n",
        "  plt.plot(max_depth, scores)\n",
        "\n",
        "plt.legend(['Learning_rate = 0.02', 'Learning_rate = 0.05', 'Learning_rate = 0.1', 'Learning_rate = 0.3'])\n",
        "plt.xlabel('max_depth')\n",
        "plt.ylabel('score')\n",
        "plt.xticks(max_depth)\n",
        "plt.show()\n"
      ],
      "metadata": {
        "colab": {
          "base_uri": "https://localhost:8080/",
          "height": 280
        },
        "id": "LJWCLEXHqrNp",
        "outputId": "e6571d72-c2a6-4f67-cb6a-a246123ac867"
      },
      "execution_count": 113,
      "outputs": [
        {
          "output_type": "display_data",
          "data": {
            "text/plain": [
              "<Figure size 432x288 with 1 Axes>"
            ],
            "image/png": "[encoded data removed]"
          },
          "metadata": {
            "needs_background": "light"
          }
        }
      ]
    },
    {
      "cell_type": "markdown",
      "source": [
        "Excessive increase learning rate can lead to an escape from the global optimum."
      ],
      "metadata": {
        "id": "Ax1I8_EYZxSy"
      }
    },
    {
      "cell_type": "markdown",
      "source": [
        "<div>\n",
        "\n",
        "  #### Relation of n_estimators and learning_rate:\n",
        "\n",
        "</div>"
      ],
      "metadata": {
        "id": "54--vd4OxqvP"
      }
    },
    {
      "cell_type": "code",
      "source": [
        "learning_rate_n_estimator_dict = {0.02: {100:0, 200:0, 300:0}, 0.05: {100:0, 200:0, 300:0}, 0.1: {100:0, 200:0, 300:0}, 0.3: {100:0, 200:0, 300:0}}\n",
        "fixed_params = {\"max_depth\": 4, \"colsample_bytree\": 0.8}\n",
        "\n",
        "for index, params in enumerate(models_params):\n",
        "  if params[\"max_depth\"] == fixed_params[\"max_depth\"] and params[\"colsample_bytree\"] == fixed_params[\"colsample_bytree\"]:\n",
        "    learning_rate, n_estimators = params[\"learning_rate\"], params[\"n_estimators\"]\n",
        "    learning_rate_n_estimator_dict[learning_rate][n_estimators] = models_mean_test_score[index]"
      ],
      "metadata": {
        "id": "BbIfAEiWxq6v"
      },
      "execution_count": 114,
      "outputs": []
    },
    {
      "cell_type": "code",
      "source": [
        "learning_rate_n_estimator_dict"
      ],
      "metadata": {
        "colab": {
          "base_uri": "https://localhost:8080/"
        },
        "id": "evVEhXDxyrL0",
        "outputId": "48e5f60c-64ec-4f39-ee7f-84b0b1f70502"
      },
      "execution_count": 115,
      "outputs": [
        {
          "output_type": "execute_result",
          "data": {
            "text/plain": [
              "{0.02: {100: 0.8201159539526145,\n",
              "  200: 0.8249531640468358,\n",
              "  300: 0.8264745469212328},\n",
              " 0.05: {100: 0.8257826257262172,\n",
              "  200: 0.8271463827642974,\n",
              "  300: 0.8270386615443228},\n",
              " 0.1: {100: 0.8268790256986781,\n",
              "  200: 0.8263090215137101,\n",
              "  300: 0.8250278477158083},\n",
              " 0.3: {100: 0.8229907792968688,\n",
              "  200: 0.8192607365869643,\n",
              "  300: 0.8154308406169469}}"
            ]
          },
          "metadata": {},
          "execution_count": 115
        }
      ]
    },
    {
      "cell_type": "code",
      "source": [
        "for learning_rate, n_estimator_score in learning_rate_n_estimator_dict.items():\n",
        "  n_estimator = list(learning_rate_n_estimator_dict[learning_rate].keys())\n",
        "  scores = list(learning_rate_n_estimator_dict[learning_rate].values())\n",
        "  plt.plot(n_estimator, scores)\n",
        "\n",
        "plt.legend(['Learning_rate = 0.02', 'Learning_rate = 0.05', 'Learning_rate = 0.1', 'Learning_rate = 0.3'])\n",
        "plt.xlabel('n_estimator')\n",
        "plt.ylabel('score')\n",
        "plt.xticks(n_estimator)\n",
        "plt.show()"
      ],
      "metadata": {
        "colab": {
          "base_uri": "https://localhost:8080/",
          "height": 280
        },
        "id": "wOPIbqIPb4wG",
        "outputId": "2c4fd8af-b39e-48ba-855d-4f45819f905b"
      },
      "execution_count": 116,
      "outputs": [
        {
          "output_type": "display_data",
          "data": {
            "text/plain": [
              "<Figure size 432x288 with 1 Axes>"
            ],
            "image/png": "[encoded data removed]"
          },
          "metadata": {
            "needs_background": "light"
          }
        }
      ]
    },
    {
      "cell_type": "markdown",
      "source": [
        "<div>\n",
        "\n",
        "  #### Relation of colsample_bytree and learning_rate:\n",
        "\n",
        "</div>"
      ],
      "metadata": {
        "id": "RHTGUChSciTF"
      }
    },
    {
      "cell_type": "code",
      "source": [
        "learning_rate_colsample_bytree_dict = {0.02: {0.8: 0, 1: 0}, 0.05: {0.8: 0, 1: 0}, 0.1: {0.8: 0, 1: 0}, 0.3: {0.8: 0, 1: 0}}\n",
        "fixed_params = {\"max_depth\": 4, \"n_estimators\": 200}\n",
        "\n",
        "for index, params in enumerate(models_params):\n",
        "  if params[\"max_depth\"] == fixed_params[\"max_depth\"] and params[\"n_estimators\"] == fixed_params[\"n_estimators\"]:\n",
        "    learning_rate, colsample_bytree = params[\"learning_rate\"], params[\"colsample_bytree\"]\n",
        "    learning_rate_colsample_bytree_dict[learning_rate][colsample_bytree] = models_mean_test_score[index]"
      ],
      "metadata": {
        "id": "HkEz3VGtci_x"
      },
      "execution_count": 117,
      "outputs": []
    },
    {
      "cell_type": "code",
      "source": [
        "learning_rate_colsample_bytree_dict"
      ],
      "metadata": {
        "colab": {
          "base_uri": "https://localhost:8080/"
        },
        "id": "PesZdLRld11Q",
        "outputId": "22910f5d-1db9-4ba8-af66-5b34057210e7"
      },
      "execution_count": 118,
      "outputs": [
        {
          "output_type": "execute_result",
          "data": {
            "text/plain": [
              "{0.02: {0.8: 0.8249531640468358, 1: 0.8249113747617441},\n",
              " 0.05: {0.8: 0.8271463827642974, 1: 0.8271077519350104},\n",
              " 0.1: {0.8: 0.8263090215137101, 1: 0.8261972419619866},\n",
              " 0.3: {0.8: 0.8192607365869643, 1: 0.8175736302785004}}"
            ]
          },
          "metadata": {},
          "execution_count": 118
        }
      ]
    },
    {
      "cell_type": "code",
      "source": [
        "for learning_rate, colsample_bytree_score in learning_rate_colsample_bytree_dict.items():\n",
        "  colsample_bytree = list(learning_rate_colsample_bytree_dict[learning_rate].keys())\n",
        "  scores = list(learning_rate_colsample_bytree_dict[learning_rate].values())\n",
        "  plt.plot(colsample_bytree, scores)\n",
        "\n",
        "plt.legend(['Learning_rate = 0.02', 'Learning_rate = 0.05', 'Learning_rate = 0.1', 'Learning_rate = 0.3'])\n",
        "plt.xlabel('colsample_bytree')\n",
        "plt.ylabel('score')\n",
        "plt.xticks(colsample_bytree)\n",
        "plt.show()"
      ],
      "metadata": {
        "colab": {
          "base_uri": "https://localhost:8080/",
          "height": 280
        },
        "id": "Xjsa7xAld3ZY",
        "outputId": "3330da78-eed8-4495-8446-7311a41cba59"
      },
      "execution_count": 119,
      "outputs": [
        {
          "output_type": "display_data",
          "data": {
            "text/plain": [
              "<Figure size 432x288 with 1 Axes>"
            ],
            "image/png": "[encoded data removed]"
          },
          "metadata": {
            "needs_background": "light"
          }
        }
      ]
    },
    {
      "cell_type": "markdown",
      "source": [
        "<div>\n",
        "\n",
        "  #### Relation of max_depth and n_estimator:\n",
        "\n",
        "</div>"
      ],
      "metadata": {
        "id": "5tkofUMlezAQ"
      }
    },
    {
      "cell_type": "code",
      "source": [
        "n_estimator_max_depth_dict = {100: {2:0, 3:0, 4:0}, 200: {2:0, 3:0, 4:0}, 300: {2:0, 3:0, 4:0}}\n",
        "fixed_params = {\"learning_rate\": 0.05, \"colsample_bytree\": 0.8}\n",
        "\n",
        "for index, params in enumerate(models_params):\n",
        "  if params[\"learning_rate\"] == fixed_params[\"learning_rate\"] and params[\"colsample_bytree\"] == fixed_params[\"colsample_bytree\"]:\n",
        "    n_estimators, max_depth = params[\"n_estimators\"], params[\"max_depth\"]\n",
        "    n_estimator_max_depth_dict[n_estimators][max_depth] = models_mean_test_score[index]"
      ],
      "metadata": {
        "id": "n2BiP6rTfFr9"
      },
      "execution_count": 120,
      "outputs": []
    },
    {
      "cell_type": "code",
      "source": [
        "n_estimator_max_depth_dict"
      ],
      "metadata": {
        "colab": {
          "base_uri": "https://localhost:8080/"
        },
        "id": "XyxV-HcslCmb",
        "outputId": "78e37c52-0072-4271-89cc-ad7ea01c8ed1"
      },
      "execution_count": 121,
      "outputs": [
        {
          "output_type": "execute_result",
          "data": {
            "text/plain": [
              "{100: {2: 0.8211154903330251, 3: 0.8240215589606382, 4: 0.8257826257262172},\n",
              " 200: {2: 0.8248625235121888, 3: 0.8264988594689058, 4: 0.8271463827642974},\n",
              " 300: {2: 0.8258981316639294, 3: 0.827000458322396, 4: 0.8270386615443228}}"
            ]
          },
          "metadata": {},
          "execution_count": 121
        }
      ]
    },
    {
      "cell_type": "code",
      "source": [
        "for n_estimator, max_depth_score in n_estimator_max_depth_dict.items():\n",
        "  max_depth = list(n_estimator_max_depth_dict[n_estimator].keys())\n",
        "  scores = list(n_estimator_max_depth_dict[n_estimator].values())\n",
        "  plt.plot(max_depth, scores)\n",
        "\n",
        "plt.legend([\"n_estimator: 100\", \"n_estimator: 200\", \"n_estimator: 300\"])\n",
        "plt.xlabel('max_depth')\n",
        "plt.ylabel('score')\n",
        "plt.xticks(max_depth)\n",
        "plt.show()"
      ],
      "metadata": {
        "colab": {
          "base_uri": "https://localhost:8080/",
          "height": 280
        },
        "id": "-KvMRkz3lFUG",
        "outputId": "93b9830a-9ca8-40f6-f5e9-42bd078d30ce"
      },
      "execution_count": 122,
      "outputs": [
        {
          "output_type": "display_data",
          "data": {
            "text/plain": [
              "<Figure size 432x288 with 1 Axes>"
            ],
            "image/png": "[encoded data removed]"
          },
          "metadata": {
            "needs_background": "light"
          }
        }
      ]
    },
    {
      "cell_type": "markdown",
      "source": [
        "<div>\n",
        "\n",
        "  #### Relation of max_depth and colsample_bytree:\n",
        "\n",
        "</div>"
      ],
      "metadata": {
        "id": "2Nj9KVqwmacC"
      }
    },
    {
      "cell_type": "code",
      "source": [
        "colsample_bytree_max_depth_dict = {0.8: {2:0, 3:0, 4:0}, 1: {2:0, 3:0, 4:0}}\n",
        "fixed_params = {\"learning_rate\": 0.05, \"n_estimators\": 200}\n",
        "\n",
        "for index, params in enumerate(models_params):\n",
        "  if params[\"learning_rate\"] == fixed_params[\"learning_rate\"] and params[\"n_estimators\"] == fixed_params[\"n_estimators\"]:\n",
        "    colsample_bytree, max_depth = params[\"colsample_bytree\"], params[\"max_depth\"]\n",
        "    colsample_bytree_max_depth_dict[colsample_bytree][max_depth] = models_mean_test_score[index]"
      ],
      "metadata": {
        "id": "-ehUwMweml0T"
      },
      "execution_count": 123,
      "outputs": []
    },
    {
      "cell_type": "code",
      "source": [
        "colsample_bytree_max_depth_dict"
      ],
      "metadata": {
        "colab": {
          "base_uri": "https://localhost:8080/"
        },
        "id": "1FV8ZEpUnCsg",
        "outputId": "cc3e487e-a6ee-420e-b55e-6973954ea3e8"
      },
      "execution_count": 124,
      "outputs": [
        {
          "output_type": "execute_result",
          "data": {
            "text/plain": [
              "{0.8: {2: 0.8248625235121888, 3: 0.8264988594689058, 4: 0.8271463827642974},\n",
              " 1: {2: 0.8249050651469645, 3: 0.8266309009229191, 4: 0.8271077519350104}}"
            ]
          },
          "metadata": {},
          "execution_count": 124
        }
      ]
    },
    {
      "cell_type": "code",
      "source": [
        "for colsample_bytree, max_depth_score in colsample_bytree_max_depth_dict.items():\n",
        "  max_depth = list(colsample_bytree_max_depth_dict[colsample_bytree].keys())\n",
        "  scores = list(colsample_bytree_max_depth_dict[colsample_bytree].values())\n",
        "  plt.plot(max_depth, scores)\n",
        "\n",
        "plt.legend([\"colsample_bytree: 0.8\", \"colsample_bytree: 1\"])\n",
        "plt.xlabel('max_depth')\n",
        "plt.ylabel('score')\n",
        "plt.xticks(max_depth)\n",
        "plt.show()"
      ],
      "metadata": {
        "colab": {
          "base_uri": "https://localhost:8080/",
          "height": 280
        },
        "id": "FH6VWQiCnIUk",
        "outputId": "6368efc3-a9da-4c81-a1f0-4c1ebb598fd1"
      },
      "execution_count": 125,
      "outputs": [
        {
          "output_type": "display_data",
          "data": {
            "text/plain": [
              "<Figure size 432x288 with 1 Axes>"
            ],
            "image/png": "[encoded data removed]"
          },
          "metadata": {
            "needs_background": "light"
          }
        }
      ]
    },
    {
      "cell_type": "markdown",
      "source": [
        "<div>\n",
        "\n",
        "  #### Relation of n_estimator and colsample_bytree:\n",
        "\n",
        "</div>"
      ],
      "metadata": {
        "id": "J0gnqtTWng05"
      }
    },
    {
      "cell_type": "code",
      "source": [
        "colsample_bytree_n_estimator_dict = {0.8: {100:0, 200:0, 300:0}, 1: {100:0, 200:0, 300:0}}\n",
        "fixed_params = {\"learning_rate\": 0.05, \"max_depth\": 4}\n",
        "\n",
        "for index, params in enumerate(models_params):\n",
        "  if params[\"learning_rate\"] == fixed_params[\"learning_rate\"] and params[\"max_depth\"] == fixed_params[\"max_depth\"]:\n",
        "    colsample_bytree, n_estimators = params[\"colsample_bytree\"], params[\"n_estimators\"]\n",
        "    colsample_bytree_n_estimator_dict[colsample_bytree][n_estimators] = models_mean_test_score[index]"
      ],
      "metadata": {
        "id": "9WIsuU9_nk-g"
      },
      "execution_count": 126,
      "outputs": []
    },
    {
      "cell_type": "code",
      "source": [
        "colsample_bytree_n_estimator_dict"
      ],
      "metadata": {
        "colab": {
          "base_uri": "https://localhost:8080/"
        },
        "id": "l7PXB4_joFd0",
        "outputId": "94c1327a-18af-4a16-b84c-da35a3ebdeda"
      },
      "execution_count": 127,
      "outputs": [
        {
          "output_type": "execute_result",
          "data": {
            "text/plain": [
              "{0.8: {100: 0.8257826257262172,\n",
              "  200: 0.8271463827642974,\n",
              "  300: 0.8270386615443228},\n",
              " 1: {100: 0.8257500216641409,\n",
              "  200: 0.8271077519350104,\n",
              "  300: 0.8268975768809712}}"
            ]
          },
          "metadata": {},
          "execution_count": 127
        }
      ]
    },
    {
      "cell_type": "code",
      "source": [
        "for colsample_bytree, n_estimator_score in colsample_bytree_n_estimator_dict.items():\n",
        "  n_estimator = list(colsample_bytree_n_estimator_dict[colsample_bytree].keys())\n",
        "  scores = list(colsample_bytree_n_estimator_dict[colsample_bytree].values())\n",
        "  plt.plot(n_estimator, scores)\n",
        "\n",
        "plt.legend([\"colsample_bytree: 0.8\", \"colsample_bytree: 1\"])\n",
        "plt.xlabel('n_estimator')\n",
        "plt.ylabel('score')\n",
        "plt.xticks(n_estimator)\n",
        "plt.show()"
      ],
      "metadata": {
        "colab": {
          "base_uri": "https://localhost:8080/",
          "height": 282
        },
        "id": "y8Du29IKoJRR",
        "outputId": "87c58018-845e-4819-b2a8-868ad35304e0"
      },
      "execution_count": 128,
      "outputs": [
        {
          "output_type": "display_data",
          "data": {
            "text/plain": [
              "<Figure size 432x288 with 1 Axes>"
            ],
            "image/png": "[encoded data removed]"
          },
          "metadata": {
            "needs_background": "light"
          }
        }
      ]
    }
  ]
}