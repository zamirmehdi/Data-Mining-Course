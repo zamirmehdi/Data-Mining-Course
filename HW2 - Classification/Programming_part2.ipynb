{
  "nbformat": 4,
  "nbformat_minor": 0,
  "metadata": {
    "colab": {
      "name": "Programming_part2.ipynb",
      "provenance": [],
      "collapsed_sections": []
    },
    "kernelspec": {
      "name": "python3",
      "display_name": "Python 3"
    },
    "language_info": {
      "name": "python"
    }
  },
  "cells": [
    {
      "cell_type": "code",
      "execution_count": 2,
      "metadata": {
        "id": "E21y-FFD4KGO"
      },
      "outputs": [],
      "source": [
        "import pandas as pd\n",
        "import numpy as np\n",
        "import matplotlib.pyplot as plt\n",
        "from sklearn.model_selection import train_test_split\n",
        "from sklearn.metrics import classification_report, confusion_matrix\n",
        "import tensorflow as tf\n",
        "from tensorflow.keras.datasets import fashion_mnist\n",
        "from tensorflow.keras.utils import to_categorical\n",
        "from sklearn.metrics import confusion_matrix"
      ]
    },
    {
      "cell_type": "code",
      "source": [
        "(x_train, y_train), (x_test, y_test) = fashion_mnist.load_data()"
      ],
      "metadata": {
        "colab": {
          "base_uri": "https://localhost:8080/"
        },
        "id": "CswYXcBi4Ygw",
        "outputId": "4a178ab3-9966-44b7-f625-8c631cc47647"
      },
      "execution_count": 3,
      "outputs": [
        {
          "output_type": "stream",
          "name": "stdout",
          "text": [
            "Downloading data from https://storage.googleapis.com/tensorflow/tf-keras-datasets/train-labels-idx1-ubyte.gz\n",
            "32768/29515 [=================================] - 0s 0us/step\n",
            "40960/29515 [=========================================] - 0s 0us/step\n",
            "Downloading data from https://storage.googleapis.com/tensorflow/tf-keras-datasets/train-images-idx3-ubyte.gz\n",
            "26427392/26421880 [==============================] - 0s 0us/step\n",
            "26435584/26421880 [==============================] - 0s 0us/step\n",
            "Downloading data from https://storage.googleapis.com/tensorflow/tf-keras-datasets/t10k-labels-idx1-ubyte.gz\n",
            "16384/5148 [===============================================================================================] - 0s 0us/step\n",
            "Downloading data from https://storage.googleapis.com/tensorflow/tf-keras-datasets/t10k-images-idx3-ubyte.gz\n",
            "4423680/4422102 [==============================] - 0s 0us/step\n",
            "4431872/4422102 [==============================] - 0s 0us/step\n"
          ]
        }
      ]
    },
    {
      "cell_type": "code",
      "source": [
        "y_test = to_categorical(y_test)\n",
        "y_train = to_categorical(y_train)"
      ],
      "metadata": {
        "id": "Yo6uwqIy4aYR"
      },
      "execution_count": 4,
      "outputs": []
    },
    {
      "cell_type": "code",
      "source": [
        "print(y_train[2])"
      ],
      "metadata": {
        "colab": {
          "base_uri": "https://localhost:8080/"
        },
        "id": "jaQr8rfb4bz-",
        "outputId": "6d9e8724-c93b-494e-a1a9-98bb6cd2f1df"
      },
      "execution_count": 5,
      "outputs": [
        {
          "output_type": "stream",
          "name": "stdout",
          "text": [
            "[1. 0. 0. 0. 0. 0. 0. 0. 0. 0.]\n"
          ]
        }
      ]
    },
    {
      "cell_type": "code",
      "source": [
        "for i in range(3):\n",
        "  plt.subplot(330 + 1 + i)\n",
        "  plt.imshow((x_train[i]), cmap=plt.get_cmap('gray'))\n",
        "plt.show()"
      ],
      "metadata": {
        "colab": {
          "base_uri": "https://localhost:8080/",
          "height": 115
        },
        "id": "GRWcggb_Ga0E",
        "outputId": "7a5a90b2-4841-4a67-c43e-5972f28f550f"
      },
      "execution_count": 9,
      "outputs": [
        {
          "output_type": "display_data",
          "data": {
            "text/plain": [
              "<Figure size 432x288 with 3 Axes>"
            ],
            "image/png": "[encoded data removed]"
          },
          "metadata": {
            "needs_background": "light"
          }
        }
      ]
    },
    {
      "cell_type": "code",
      "source": [
        "cnn = tf.keras.models.Sequential()\n",
        "cnn.add(tf.keras.layers.Conv2D(filters=32, kernel_size=3, activation='relu', input_shape=[28, 28, 1]))\n",
        "cnn.add(tf.keras.layers.MaxPool2D(pool_size=2, strides=2))\n",
        "cnn.add(tf.keras.layers.Dropout(0.25))\n",
        "cnn.add(tf.keras.layers.Conv2D(filters=32, kernel_size=3, activation='relu'))\n",
        "cnn.add(tf.keras.layers.MaxPool2D(pool_size=2, strides=2))\n",
        "cnn.add(tf.keras.layers.Dropout(0.25))\n",
        "cnn.add(tf.keras.layers.Flatten())\n",
        "cnn.add(tf.keras.layers.Dense(units=128, activation='relu'))\n",
        "cnn.add(tf.keras.layers.Dropout(0.25))\n",
        "cnn.add(tf.keras.layers.Dense(units=10, activation='softmax'))\n",
        "\n",
        "cnn.compile(optimizer='adam', loss='categorical_crossentropy', metrics=['accuracy'])\n",
        "model = cnn.fit(x_train,y_train, batch_size=32, epochs=25)"
      ],
      "metadata": {
        "colab": {
          "base_uri": "https://localhost:8080/"
        },
        "id": "8GSOijjD4dFK",
        "outputId": "d18120ad-bf78-4f37-ef4c-be00ad56af5f"
      },
      "execution_count": 13,
      "outputs": [
        {
          "output_type": "stream",
          "name": "stdout",
          "text": [
            "Epoch 1/25\n",
            "1875/1875 [==============================] - 51s 27ms/step - loss: 1.0542 - accuracy: 0.7093\n",
            "Epoch 2/25\n",
            "1875/1875 [==============================] - 49s 26ms/step - loss: 0.5106 - accuracy: 0.8102\n",
            "Epoch 3/25\n",
            "1875/1875 [==============================] - 48s 25ms/step - loss: 0.4465 - accuracy: 0.8360\n",
            "Epoch 4/25\n",
            "1875/1875 [==============================] - 47s 25ms/step - loss: 0.4112 - accuracy: 0.8468\n",
            "Epoch 5/25\n",
            "1875/1875 [==============================] - 47s 25ms/step - loss: 0.3956 - accuracy: 0.8546\n",
            "Epoch 6/25\n",
            "1875/1875 [==============================] - 47s 25ms/step - loss: 0.3745 - accuracy: 0.8608\n",
            "Epoch 7/25\n",
            "1875/1875 [==============================] - 47s 25ms/step - loss: 0.3643 - accuracy: 0.8646\n",
            "Epoch 8/25\n",
            "1875/1875 [==============================] - 47s 25ms/step - loss: 0.3547 - accuracy: 0.8691\n",
            "Epoch 9/25\n",
            "1875/1875 [==============================] - 48s 26ms/step - loss: 0.3491 - accuracy: 0.8704\n",
            "Epoch 10/25\n",
            "1875/1875 [==============================] - 49s 26ms/step - loss: 0.3438 - accuracy: 0.8719\n",
            "Epoch 11/25\n",
            "1875/1875 [==============================] - 49s 26ms/step - loss: 0.3381 - accuracy: 0.8754\n",
            "Epoch 12/25\n",
            "1875/1875 [==============================] - 49s 26ms/step - loss: 0.3324 - accuracy: 0.8760\n",
            "Epoch 13/25\n",
            "1875/1875 [==============================] - 50s 27ms/step - loss: 0.3267 - accuracy: 0.8785\n",
            "Epoch 14/25\n",
            "1875/1875 [==============================] - 51s 27ms/step - loss: 0.3251 - accuracy: 0.8794\n",
            "Epoch 15/25\n",
            "1875/1875 [==============================] - 50s 27ms/step - loss: 0.3218 - accuracy: 0.8799\n",
            "Epoch 16/25\n",
            "1875/1875 [==============================] - 50s 27ms/step - loss: 0.3291 - accuracy: 0.8778\n",
            "Epoch 17/25\n",
            "1875/1875 [==============================] - 50s 27ms/step - loss: 0.3231 - accuracy: 0.8781\n",
            "Epoch 18/25\n",
            "1875/1875 [==============================] - 50s 27ms/step - loss: 0.3180 - accuracy: 0.8815\n",
            "Epoch 19/25\n",
            "1875/1875 [==============================] - 50s 27ms/step - loss: 0.3132 - accuracy: 0.8833\n",
            "Epoch 20/25\n",
            "1875/1875 [==============================] - 54s 29ms/step - loss: 0.3126 - accuracy: 0.8838\n",
            "Epoch 21/25\n",
            "1875/1875 [==============================] - 53s 28ms/step - loss: 0.3117 - accuracy: 0.8841\n",
            "Epoch 22/25\n",
            "1875/1875 [==============================] - 54s 29ms/step - loss: 0.3106 - accuracy: 0.8840\n",
            "Epoch 23/25\n",
            "1875/1875 [==============================] - 53s 28ms/step - loss: 0.3127 - accuracy: 0.8843\n",
            "Epoch 24/25\n",
            "1875/1875 [==============================] - 55s 29ms/step - loss: 0.3118 - accuracy: 0.8862\n",
            "Epoch 25/25\n",
            "1875/1875 [==============================] - 55s 29ms/step - loss: 0.3116 - accuracy: 0.8843\n"
          ]
        }
      ]
    },
    {
      "cell_type": "code",
      "source": [
        "y_pred = cnn.predict(x_test)"
      ],
      "metadata": {
        "id": "VYjLcSRU4iTl"
      },
      "execution_count": 14,
      "outputs": []
    },
    {
      "cell_type": "code",
      "source": [
        "plt.plot(model.epoch, model.history[\"loss\"], 'g', label='Training loss')\n",
        "plt.title('Training loss')\n",
        "plt.xlabel('Epochs')\n",
        "plt.ylabel('Loss')\n",
        "plt.legend()\n",
        "plt.show()\n",
        "plt.plot(model.epoch, model.history[\"accuracy\"], 'g', label='Training accuracy')\n",
        "plt.title('Training accuracy')\n",
        "plt.xlabel('Epochs')\n",
        "plt.ylabel('Accuracy')\n",
        "plt.legend()\n",
        "plt.show()"
      ],
      "metadata": {
        "colab": {
          "base_uri": "https://localhost:8080/",
          "height": 573
        },
        "id": "gP8MydYW4kEZ",
        "outputId": "f7fa4130-a68e-45d5-b315-1b979466c6d2"
      },
      "execution_count": 15,
      "outputs": [
        {
          "output_type": "display_data",
          "data": {
            "text/plain": [
              "<Figure size 432x288 with 1 Axes>"
            ],
            "image/png": "[encoded data removed]"
          },
          "metadata": {
            "needs_background": "light"
          }
        },
        {
          "output_type": "display_data",
          "data": {
            "text/plain": [
              "<Figure size 432x288 with 1 Axes>"
            ],
            "image/png": "[encoded data removed]"
          },
          "metadata": {
            "needs_background": "light"
          }
        }
      ]
    },
    {
      "cell_type": "code",
      "source": [
        "counter = 0\n",
        "correct = 0\n",
        "for i in range(len(y_pred)):\n",
        "  if (np.argmax(y_pred[i]) == np.argmax(y_test[i])):\n",
        "    correct += 1\n",
        "  counter += 1\n",
        "print(correct/counter)"
      ],
      "metadata": {
        "colab": {
          "base_uri": "https://localhost:8080/"
        },
        "id": "zX6-BC6O4mDa",
        "outputId": "72f7b681-e247-49f0-92ac-45438de8a286"
      },
      "execution_count": 16,
      "outputs": [
        {
          "output_type": "stream",
          "name": "stdout",
          "text": [
            "0.8939\n"
          ]
        }
      ]
    },
    {
      "cell_type": "code",
      "source": [
        "confusion_matrix(y_test.argmax(axis=1), y_pred.argmax(axis=1))"
      ],
      "metadata": {
        "colab": {
          "base_uri": "https://localhost:8080/"
        },
        "id": "OYjRQas_4nv0",
        "outputId": "b6dab127-d55b-4f56-b4b9-1b92ddb25d48"
      },
      "execution_count": 17,
      "outputs": [
        {
          "output_type": "execute_result",
          "data": {
            "text/plain": [
              "array([[864,   0,  11,  15,   4,   1,  97,   0,   8,   0],\n",
              "       [  1, 964,   1,  22,   2,   0,   7,   0,   3,   0],\n",
              "       [ 17,   0, 839,  12,  60,   0,  72,   0,   0,   0],\n",
              "       [ 10,   1,   6, 912,  33,   0,  36,   0,   2,   0],\n",
              "       [  0,   1,  86,  35, 778,   1,  97,   0,   2,   0],\n",
              "       [  0,   0,   0,   0,   0, 976,   0,  13,   0,  11],\n",
              "       [130,   0,  76,  31,  63,   0, 687,   0,  12,   1],\n",
              "       [  0,   0,   0,   0,   0,  10,   0, 975,   0,  15],\n",
              "       [  1,   0,   3,   3,   1,   2,  10,   1, 978,   1],\n",
              "       [  0,   0,   1,   0,   0,   3,   0,  30,   0, 966]])"
            ]
          },
          "metadata": {},
          "execution_count": 17
        }
      ]
    }
  ]
}